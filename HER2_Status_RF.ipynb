{
  "cells": [
    {
      "cell_type": "code",
      "execution_count": null,
      "id": "30e4c817",
      "metadata": {
        "id": "30e4c817"
      },
      "outputs": [],
      "source": [
        "import pandas as pd\n",
        "import numpy as np\n",
        "from sklearn.preprocessing import LabelEncoder\n",
        "from tensorflow.keras.models import Sequential\n",
        "from tensorflow.keras.layers import Dense, Activation, Dropout\n",
        "from sklearn.ensemble import RandomForestClassifier\n",
        "from sklearn.metrics import accuracy_score,classification_report, confusion_matrix,roc_auc_score,roc_curve\n",
        "import matplotlib.pyplot as plt\n",
        "import seaborn as sns\n",
        "from sklearn import metrics\n",
        "from sklearn.preprocessing import StandardScaler"
      ]
    },
    {
      "cell_type": "code",
      "execution_count": null,
      "id": "96978388",
      "metadata": {
        "id": "96978388"
      },
      "outputs": [],
      "source": [
        "data=pd.read_excel('/content/sample_data/BCDexcel.xlsx')"
      ]
    },
    {
      "cell_type": "code",
      "execution_count": null,
      "id": "0d43702a",
      "metadata": {
        "id": "0d43702a"
      },
      "outputs": [],
      "source": [
        "data.drop(['Patient ID','Sample ID','Integrative Cluster'],axis=1,inplace=True)"
      ]
    },
    {
      "cell_type": "code",
      "execution_count": null,
      "id": "c4fb0145",
      "metadata": {
        "id": "c4fb0145"
      },
      "outputs": [],
      "source": [
        "data.dropna(inplace = True)"
      ]
    },
    {
      "cell_type": "code",
      "execution_count": null,
      "id": "2455e027",
      "metadata": {
        "colab": {
          "base_uri": "https://localhost:8080/"
        },
        "id": "2455e027",
        "outputId": "77234e5d-a618-4a43-d704-509435e65e9b"
      },
      "outputs": [
        {
          "output_type": "execute_result",
          "data": {
            "text/plain": [
              "Study ID                          0\n",
              "Age at Diagnosis                  0\n",
              "Type of Breast Surgery            0\n",
              "Cancer Type                       0\n",
              "Cancer Type Detailed              0\n",
              "Cellularity                       0\n",
              "Chemotherapy                      0\n",
              "Pam50 + Claudin-low subtype       0\n",
              "Cohort                            0\n",
              "ER status measured by IHC         0\n",
              "ER Status                         0\n",
              "Neoplasm Histologic Grade         0\n",
              "HER2 status measured by SNP6      0\n",
              "HER2 Status                       0\n",
              "Tumor Other Histologic Subtype    0\n",
              "Hormone Therapy                   0\n",
              "Inferred Menopausal State         0\n",
              "Primary Tumor Laterality          0\n",
              "Lymph nodes examined positive     0\n",
              "Mutation Count                    0\n",
              "Nottingham prognostic index       0\n",
              "Oncotree Code                     0\n",
              "Overall Survival (Months)         0\n",
              "Overall Survival Status           0\n",
              "PR Status                         0\n",
              "Radio Therapy                     0\n",
              "Relapse Free Status (Months)      0\n",
              "Relapse Free Status               0\n",
              "Number of Samples Per Patient     0\n",
              "Sample Type                       0\n",
              "Sex                               0\n",
              "3-Gene classifier subtype         0\n",
              "TMB (nonsynonymous)               0\n",
              "Tumor Size                        0\n",
              "Tumor Stage                       0\n",
              "Patient's Vital Status            0\n",
              "dtype: int64"
            ]
          },
          "metadata": {},
          "execution_count": 62
        }
      ],
      "source": [
        "data.isnull().sum()"
      ]
    },
    {
      "cell_type": "code",
      "execution_count": null,
      "id": "412780dc",
      "metadata": {
        "colab": {
          "base_uri": "https://localhost:8080/"
        },
        "id": "412780dc",
        "outputId": "f71cdcd1-fe95-45cd-fa33-aaae49c19d4e"
      },
      "outputs": [
        {
          "output_type": "execute_result",
          "data": {
            "text/plain": [
              "HER2 Status\n",
              "Negative    958\n",
              "Positive    134\n",
              "Name: count, dtype: int64"
            ]
          },
          "metadata": {},
          "execution_count": 63
        }
      ],
      "source": [
        "data['HER2 Status'].value_counts()"
      ]
    },
    {
      "cell_type": "code",
      "execution_count": null,
      "id": "f70ad0fa",
      "metadata": {
        "colab": {
          "base_uri": "https://localhost:8080/"
        },
        "id": "f70ad0fa",
        "outputId": "2a60b5da-2ef5-4fe8-8448-75ce5840a01d"
      },
      "outputs": [
        {
          "output_type": "execute_result",
          "data": {
            "text/plain": [
              "0"
            ]
          },
          "metadata": {},
          "execution_count": 64
        }
      ],
      "source": [
        "data.duplicated().sum()"
      ]
    },
    {
      "cell_type": "code",
      "execution_count": null,
      "id": "18d56800",
      "metadata": {
        "id": "18d56800"
      },
      "outputs": [],
      "source": [
        "x=data.drop('HER2 Status',axis=1)\n",
        "y=data['HER2 Status']"
      ]
    },
    {
      "cell_type": "code",
      "execution_count": null,
      "id": "8b0bbca0",
      "metadata": {
        "colab": {
          "base_uri": "https://localhost:8080/"
        },
        "id": "8b0bbca0",
        "outputId": "f935285b-54ef-433d-c669-b52439594844"
      },
      "outputs": [
        {
          "output_type": "execute_result",
          "data": {
            "text/plain": [
              "HER2 Status\n",
              "Negative    958\n",
              "Positive    134\n",
              "Name: count, dtype: int64"
            ]
          },
          "metadata": {},
          "execution_count": 66
        }
      ],
      "source": [
        "y.value_counts()"
      ]
    },
    {
      "cell_type": "code",
      "execution_count": null,
      "id": "cdca0cd5",
      "metadata": {
        "id": "cdca0cd5"
      },
      "outputs": [],
      "source": [
        "x=x.apply(LabelEncoder().fit_transform)\n",
        "y=LabelEncoder().fit_transform(y)"
      ]
    },
    {
      "cell_type": "code",
      "execution_count": null,
      "id": "6ec77f7f",
      "metadata": {
        "colab": {
          "base_uri": "https://localhost:8080/"
        },
        "id": "6ec77f7f",
        "outputId": "5580027f-f223-41ed-e4f5-396fe0dbd5b0"
      },
      "outputs": [
        {
          "output_type": "execute_result",
          "data": {
            "text/plain": [
              "array([0, 0, 0, ..., 0, 0, 0])"
            ]
          },
          "metadata": {},
          "execution_count": 68
        }
      ],
      "source": [
        "y"
      ]
    },
    {
      "cell_type": "code",
      "execution_count": null,
      "id": "7755c439",
      "metadata": {
        "colab": {
          "base_uri": "https://localhost:8080/"
        },
        "id": "7755c439",
        "outputId": "28404c56-c768-48e7-e58e-84814ce6d546"
      },
      "outputs": [
        {
          "output_type": "execute_result",
          "data": {
            "text/plain": [
              "('Study ID', 'Age at Diagnosis', 'Overall Survival (Months)')"
            ]
          },
          "metadata": {},
          "execution_count": 69
        }
      ],
      "source": [
        "from mlxtend.feature_selection import SequentialFeatureSelector as SFS\n",
        "from sklearn.tree import DecisionTreeClassifier\n",
        "# Sequential Forward Floating Selection(sffs)\n",
        "sffs = SFS(DecisionTreeClassifier(),\n",
        "          k_features=(3,11),\n",
        "          forward=True,\n",
        "          floating=True,\n",
        "          cv=0)\n",
        "sffs.fit(x, y)\n",
        "sffs.k_feature_names_"
      ]
    },
    {
      "cell_type": "code",
      "execution_count": null,
      "id": "126f3a83",
      "metadata": {
        "id": "126f3a83"
      },
      "outputs": [],
      "source": [
        "from sklearn.preprocessing import StandardScaler\n",
        "x=StandardScaler().fit_transform(x)"
      ]
    },
    {
      "cell_type": "code",
      "execution_count": null,
      "id": "73ad218f",
      "metadata": {
        "id": "73ad218f"
      },
      "outputs": [],
      "source": [
        "from sklearn.model_selection import train_test_split\n",
        "x_train, x_test, y_train, y_test= train_test_split(x, y, test_size= 0.25, random_state=42)"
      ]
    },
    {
      "cell_type": "code",
      "execution_count": null,
      "id": "fc029dc3",
      "metadata": {
        "colab": {
          "base_uri": "https://localhost:8080/"
        },
        "id": "fc029dc3",
        "outputId": "6702ff1d-bdfd-4067-c8e2-1a4e4225189a"
      },
      "outputs": [
        {
          "output_type": "stream",
          "name": "stdout",
          "text": [
            "Number of components selected: 11\n"
          ]
        }
      ],
      "source": [
        "from sklearn.decomposition import TruncatedSVD\n",
        "import numpy as np\n",
        "\n",
        "# Initialize SVD and fit on the training data\n",
        "svd = TruncatedSVD(n_components=x_train.shape[1] - 1)  # Use one less component than the feature count\n",
        "X_train_svd = svd.fit_transform(x_train)\n",
        "\n",
        "# Calculate explained variance ratio for each component\n",
        "explained_variance_ratio = svd.explained_variance_ratio_\n",
        "\n",
        "# Calculate the cumulative explained variance\n",
        "cumulative_explained_variance = np.cumsum(explained_variance_ratio)\n",
        "\n",
        "# Find the number of components that explain at least 75% of the variance\n",
        "n_components = np.argmax(cumulative_explained_variance >= 0.75) + 1\n",
        "\n",
        "# Transform both the training and test data to the selected number of components\n",
        "x_train = svd.transform(x_train)[:, :n_components]\n",
        "x_test = svd.transform(x_test)[:, :n_components]\n",
        "\n",
        "# Print the number of components selected\n",
        "print(f\"Number of components selected: {n_components}\")"
      ]
    },
    {
      "cell_type": "code",
      "execution_count": null,
      "id": "2e100f3c",
      "metadata": {
        "id": "2e100f3c"
      },
      "outputs": [],
      "source": [
        "model = Sequential()\n",
        "model.add(Dense(units = 30,activation='relu'))\n",
        "model.add(Dense(units = 30,activation='relu'))\n",
        "model.add(Dense(units = 1,activation='sigmoid'))\n",
        "model.compile(optimizer='adam',loss = 'binary_crossentropy',metrics=['accuracy'])"
      ]
    },
    {
      "cell_type": "code",
      "execution_count": null,
      "id": "ab8201f1",
      "metadata": {
        "colab": {
          "base_uri": "https://localhost:8080/"
        },
        "id": "ab8201f1",
        "outputId": "ebb2f43c-4e9a-4b69-efb1-248d5fb2175a"
      },
      "outputs": [
        {
          "output_type": "stream",
          "name": "stdout",
          "text": [
            "Epoch 1/30\n",
            "26/26 [==============================] - 1s 2ms/step - loss: 0.6270 - accuracy: 0.6520\n",
            "Epoch 2/30\n",
            "26/26 [==============================] - 0s 2ms/step - loss: 0.3868 - accuracy: 0.8816\n",
            "Epoch 3/30\n",
            "26/26 [==============================] - 0s 2ms/step - loss: 0.2956 - accuracy: 0.8877\n",
            "Epoch 4/30\n",
            "26/26 [==============================] - 0s 2ms/step - loss: 0.2428 - accuracy: 0.8938\n",
            "Epoch 5/30\n",
            "26/26 [==============================] - 0s 2ms/step - loss: 0.2084 - accuracy: 0.9084\n",
            "Epoch 6/30\n",
            "26/26 [==============================] - 0s 3ms/step - loss: 0.1829 - accuracy: 0.9219\n",
            "Epoch 7/30\n",
            "26/26 [==============================] - 0s 3ms/step - loss: 0.1636 - accuracy: 0.9316\n",
            "Epoch 8/30\n",
            "26/26 [==============================] - 0s 2ms/step - loss: 0.1483 - accuracy: 0.9402\n",
            "Epoch 9/30\n",
            "26/26 [==============================] - 0s 2ms/step - loss: 0.1371 - accuracy: 0.9451\n",
            "Epoch 10/30\n",
            "26/26 [==============================] - 0s 2ms/step - loss: 0.1280 - accuracy: 0.9451\n",
            "Epoch 11/30\n",
            "26/26 [==============================] - 0s 2ms/step - loss: 0.1212 - accuracy: 0.9438\n",
            "Epoch 12/30\n",
            "26/26 [==============================] - 0s 2ms/step - loss: 0.1163 - accuracy: 0.9463\n",
            "Epoch 13/30\n",
            "26/26 [==============================] - 0s 3ms/step - loss: 0.1119 - accuracy: 0.9475\n",
            "Epoch 14/30\n",
            "26/26 [==============================] - 0s 2ms/step - loss: 0.1076 - accuracy: 0.9487\n",
            "Epoch 15/30\n",
            "26/26 [==============================] - 0s 2ms/step - loss: 0.1044 - accuracy: 0.9499\n",
            "Epoch 16/30\n",
            "26/26 [==============================] - 0s 2ms/step - loss: 0.1022 - accuracy: 0.9512\n",
            "Epoch 17/30\n",
            "26/26 [==============================] - 0s 2ms/step - loss: 0.1006 - accuracy: 0.9548\n",
            "Epoch 18/30\n",
            "26/26 [==============================] - 0s 2ms/step - loss: 0.0967 - accuracy: 0.9573\n",
            "Epoch 19/30\n",
            "26/26 [==============================] - 0s 2ms/step - loss: 0.0947 - accuracy: 0.9560\n",
            "Epoch 20/30\n",
            "26/26 [==============================] - 0s 2ms/step - loss: 0.0928 - accuracy: 0.9560\n",
            "Epoch 21/30\n",
            "26/26 [==============================] - 0s 2ms/step - loss: 0.0911 - accuracy: 0.9573\n",
            "Epoch 22/30\n",
            "26/26 [==============================] - 0s 2ms/step - loss: 0.0892 - accuracy: 0.9597\n",
            "Epoch 23/30\n",
            "26/26 [==============================] - 0s 2ms/step - loss: 0.0872 - accuracy: 0.9560\n",
            "Epoch 24/30\n",
            "26/26 [==============================] - 0s 2ms/step - loss: 0.0856 - accuracy: 0.9585\n",
            "Epoch 25/30\n",
            "26/26 [==============================] - 0s 2ms/step - loss: 0.0840 - accuracy: 0.9597\n",
            "Epoch 26/30\n",
            "26/26 [==============================] - 0s 2ms/step - loss: 0.0827 - accuracy: 0.9609\n",
            "Epoch 27/30\n",
            "26/26 [==============================] - 0s 2ms/step - loss: 0.0818 - accuracy: 0.9609\n",
            "Epoch 28/30\n",
            "26/26 [==============================] - 0s 2ms/step - loss: 0.0797 - accuracy: 0.9621\n",
            "Epoch 29/30\n",
            "26/26 [==============================] - 0s 3ms/step - loss: 0.0784 - accuracy: 0.9634\n",
            "Epoch 30/30\n",
            "26/26 [==============================] - 0s 3ms/step - loss: 0.0774 - accuracy: 0.9658\n"
          ]
        },
        {
          "output_type": "execute_result",
          "data": {
            "text/plain": [
              "<keras.src.callbacks.History at 0x7e744980b280>"
            ]
          },
          "metadata": {},
          "execution_count": 74
        }
      ],
      "source": [
        "model.fit(x = x_train,\n",
        "          y = y_train,\n",
        "          epochs = 30,\n",
        "         #validation_data=(x_test, y_test),\n",
        "         # batch_size = 1,\n",
        "         verbose=1)"
      ]
    },
    {
      "cell_type": "code",
      "execution_count": null,
      "id": "1861e67e",
      "metadata": {
        "colab": {
          "base_uri": "https://localhost:8080/"
        },
        "id": "1861e67e",
        "outputId": "53b1d9a6-b82a-4d2b-e728-ee757b9deb55"
      },
      "outputs": [
        {
          "output_type": "stream",
          "name": "stdout",
          "text": [
            "9/9 [==============================] - 0s 2ms/step - loss: 0.1777 - accuracy: 0.9121\n",
            "Test: accuracy = 0.912088  ;  loss = 0.177658\n"
          ]
        }
      ],
      "source": [
        "loss, accuracy = model.evaluate(x_test, y_test, verbose=1)\n",
        "#loss_v, accuracy_v = model.evaluate(x_validate, y_validate, verbose=1)\n",
        "#print(\"Validation: accuracy = %f  ;  loss_v = %f\" % (accuracy_v, loss_v))\n",
        "print(\"Test: accuracy = %f  ;  loss = %f\" % (accuracy, loss))"
      ]
    },
    {
      "cell_type": "markdown",
      "source": [
        "Calculating **predictions**"
      ],
      "metadata": {
        "id": "5E2zHofEPt6v"
      },
      "id": "5E2zHofEPt6v"
    },
    {
      "cell_type": "code",
      "source": [
        "# calculate predictions\n",
        "predictions = model.predict(x_train)\n",
        "print(predictions.shape)\n",
        "# round predictions\n",
        "rounded = [round(x[0]) for x in predictions]\n",
        "print(rounded)"
      ],
      "metadata": {
        "colab": {
          "base_uri": "https://localhost:8080/"
        },
        "id": "lk98AuabPtBR",
        "outputId": "7007c5ff-6150-4cf2-a0d1-8657a7bd66f2"
      },
      "id": "lk98AuabPtBR",
      "execution_count": null,
      "outputs": [
        {
          "output_type": "stream",
          "name": "stdout",
          "text": [
            "26/26 [==============================] - 0s 1ms/step\n",
            "(819, 1)\n",
            "[0, 0, 0, 0, 0, 0, 0, 0, 0, 0, 0, 0, 0, 0, 0, 0, 0, 1, 0, 0, 0, 1, 0, 0, 0, 0, 0, 0, 0, 0, 0, 0, 0, 0, 0, 0, 0, 0, 0, 0, 0, 0, 0, 0, 0, 0, 0, 0, 0, 0, 1, 0, 0, 0, 0, 0, 1, 0, 0, 0, 0, 0, 0, 0, 0, 0, 0, 0, 0, 0, 1, 0, 1, 0, 0, 0, 0, 1, 0, 0, 0, 0, 0, 0, 0, 0, 0, 1, 0, 0, 0, 0, 0, 0, 0, 0, 0, 0, 0, 0, 0, 1, 0, 0, 0, 1, 0, 0, 0, 1, 0, 0, 0, 0, 0, 0, 0, 0, 0, 0, 0, 1, 1, 0, 0, 1, 0, 0, 0, 0, 0, 0, 1, 0, 0, 0, 0, 0, 0, 0, 0, 0, 0, 0, 0, 0, 0, 1, 0, 0, 0, 0, 1, 0, 0, 0, 0, 0, 0, 0, 0, 0, 0, 0, 0, 0, 0, 0, 0, 0, 1, 1, 0, 0, 0, 0, 0, 0, 0, 0, 0, 0, 0, 0, 0, 0, 0, 0, 0, 0, 0, 0, 0, 0, 0, 0, 0, 0, 0, 0, 0, 0, 0, 0, 1, 1, 0, 0, 0, 0, 0, 1, 1, 0, 0, 0, 0, 0, 0, 0, 0, 0, 0, 1, 0, 0, 0, 0, 0, 0, 0, 0, 0, 0, 0, 0, 0, 0, 0, 0, 1, 0, 0, 0, 0, 0, 0, 0, 0, 1, 0, 0, 0, 0, 0, 0, 0, 0, 0, 0, 0, 0, 1, 0, 0, 0, 0, 1, 0, 0, 0, 0, 0, 0, 1, 0, 0, 0, 1, 0, 0, 0, 0, 0, 0, 0, 0, 0, 0, 0, 0, 0, 1, 1, 0, 0, 1, 0, 0, 0, 0, 0, 0, 1, 0, 0, 1, 0, 0, 0, 0, 0, 0, 0, 0, 0, 0, 0, 0, 0, 0, 0, 0, 0, 0, 0, 0, 0, 0, 0, 0, 1, 0, 0, 0, 0, 0, 0, 0, 1, 0, 0, 0, 0, 0, 0, 0, 0, 0, 0, 0, 0, 0, 0, 0, 0, 0, 0, 0, 0, 0, 0, 0, 1, 0, 0, 0, 0, 0, 0, 0, 0, 0, 0, 0, 0, 0, 0, 0, 1, 0, 0, 0, 0, 0, 0, 0, 0, 0, 1, 0, 0, 0, 0, 0, 0, 0, 0, 0, 0, 0, 0, 0, 1, 1, 0, 0, 0, 0, 1, 0, 1, 0, 0, 0, 1, 0, 0, 0, 0, 0, 0, 0, 0, 0, 0, 0, 0, 0, 0, 0, 0, 1, 0, 0, 0, 0, 0, 0, 0, 0, 0, 1, 0, 0, 0, 0, 0, 1, 0, 0, 1, 0, 0, 0, 1, 0, 0, 0, 0, 0, 0, 1, 0, 0, 0, 0, 0, 0, 0, 0, 0, 0, 0, 0, 0, 0, 0, 1, 0, 0, 1, 1, 0, 0, 1, 1, 0, 0, 0, 0, 0, 0, 0, 0, 0, 0, 0, 1, 0, 1, 0, 0, 0, 0, 0, 0, 1, 0, 1, 0, 0, 0, 0, 0, 0, 0, 1, 0, 1, 0, 0, 0, 1, 0, 0, 1, 0, 0, 0, 0, 1, 0, 0, 0, 0, 0, 0, 0, 0, 0, 0, 0, 1, 0, 0, 0, 0, 0, 1, 0, 0, 0, 0, 0, 0, 0, 0, 0, 0, 0, 0, 0, 0, 0, 0, 0, 0, 0, 0, 0, 1, 1, 0, 0, 0, 0, 0, 0, 0, 0, 0, 0, 0, 0, 0, 0, 0, 0, 0, 0, 0, 0, 0, 0, 0, 0, 0, 0, 0, 0, 0, 0, 0, 0, 0, 0, 0, 0, 0, 0, 0, 1, 0, 0, 0, 0, 0, 0, 0, 0, 0, 0, 0, 0, 0, 0, 0, 1, 0, 0, 0, 0, 0, 0, 0, 0, 0, 1, 0, 0, 0, 0, 0, 0, 0, 1, 1, 0, 0, 0, 0, 0, 0, 0, 0, 0, 0, 0, 0, 0, 0, 0, 0, 1, 0, 0, 0, 0, 0, 0, 0, 0, 0, 0, 0, 1, 0, 0, 0, 0, 0, 0, 0, 0, 0, 0, 0, 0, 1, 0, 0, 0, 0, 0, 0, 0, 0, 0, 0, 0, 0, 0, 0, 0, 1, 0, 0, 0, 0, 0, 1, 1, 0, 0, 0, 0, 0, 1, 0, 0, 1, 0, 0, 0, 0, 1, 0, 0, 0, 0, 0, 0, 1, 1, 0, 0, 0, 0, 0, 0, 0, 0, 0, 0, 0, 0, 0, 1, 1, 0, 0, 0, 0, 0, 0, 0, 1, 0, 0, 0, 1, 0, 0, 0, 0, 0, 0, 0, 0, 0, 1, 0, 0, 0, 0, 0, 0, 0, 1, 0, 0, 0, 1, 0, 0, 0, 0, 0, 0, 0, 0, 0, 0, 0, 1, 0, 0, 0, 0, 1, 0, 0, 0, 0, 0, 0, 0, 0, 1, 0, 0, 0, 0, 0, 0, 0, 0, 0]\n"
          ]
        }
      ]
    },
    {
      "cell_type": "code",
      "execution_count": null,
      "id": "9450474d",
      "metadata": {
        "colab": {
          "base_uri": "https://localhost:8080/",
          "height": 75
        },
        "id": "9450474d",
        "outputId": "b08eeaa3-793c-48e5-8216-df665e0a6cd0"
      },
      "outputs": [
        {
          "output_type": "execute_result",
          "data": {
            "text/plain": [
              "RandomForestClassifier(n_estimators=50, random_state=42)"
            ],
            "text/html": [
              "<style>#sk-container-id-4 {color: black;background-color: white;}#sk-container-id-4 pre{padding: 0;}#sk-container-id-4 div.sk-toggleable {background-color: white;}#sk-container-id-4 label.sk-toggleable__label {cursor: pointer;display: block;width: 100%;margin-bottom: 0;padding: 0.3em;box-sizing: border-box;text-align: center;}#sk-container-id-4 label.sk-toggleable__label-arrow:before {content: \"▸\";float: left;margin-right: 0.25em;color: #696969;}#sk-container-id-4 label.sk-toggleable__label-arrow:hover:before {color: black;}#sk-container-id-4 div.sk-estimator:hover label.sk-toggleable__label-arrow:before {color: black;}#sk-container-id-4 div.sk-toggleable__content {max-height: 0;max-width: 0;overflow: hidden;text-align: left;background-color: #f0f8ff;}#sk-container-id-4 div.sk-toggleable__content pre {margin: 0.2em;color: black;border-radius: 0.25em;background-color: #f0f8ff;}#sk-container-id-4 input.sk-toggleable__control:checked~div.sk-toggleable__content {max-height: 200px;max-width: 100%;overflow: auto;}#sk-container-id-4 input.sk-toggleable__control:checked~label.sk-toggleable__label-arrow:before {content: \"▾\";}#sk-container-id-4 div.sk-estimator input.sk-toggleable__control:checked~label.sk-toggleable__label {background-color: #d4ebff;}#sk-container-id-4 div.sk-label input.sk-toggleable__control:checked~label.sk-toggleable__label {background-color: #d4ebff;}#sk-container-id-4 input.sk-hidden--visually {border: 0;clip: rect(1px 1px 1px 1px);clip: rect(1px, 1px, 1px, 1px);height: 1px;margin: -1px;overflow: hidden;padding: 0;position: absolute;width: 1px;}#sk-container-id-4 div.sk-estimator {font-family: monospace;background-color: #f0f8ff;border: 1px dotted black;border-radius: 0.25em;box-sizing: border-box;margin-bottom: 0.5em;}#sk-container-id-4 div.sk-estimator:hover {background-color: #d4ebff;}#sk-container-id-4 div.sk-parallel-item::after {content: \"\";width: 100%;border-bottom: 1px solid gray;flex-grow: 1;}#sk-container-id-4 div.sk-label:hover label.sk-toggleable__label {background-color: #d4ebff;}#sk-container-id-4 div.sk-serial::before {content: \"\";position: absolute;border-left: 1px solid gray;box-sizing: border-box;top: 0;bottom: 0;left: 50%;z-index: 0;}#sk-container-id-4 div.sk-serial {display: flex;flex-direction: column;align-items: center;background-color: white;padding-right: 0.2em;padding-left: 0.2em;position: relative;}#sk-container-id-4 div.sk-item {position: relative;z-index: 1;}#sk-container-id-4 div.sk-parallel {display: flex;align-items: stretch;justify-content: center;background-color: white;position: relative;}#sk-container-id-4 div.sk-item::before, #sk-container-id-4 div.sk-parallel-item::before {content: \"\";position: absolute;border-left: 1px solid gray;box-sizing: border-box;top: 0;bottom: 0;left: 50%;z-index: -1;}#sk-container-id-4 div.sk-parallel-item {display: flex;flex-direction: column;z-index: 1;position: relative;background-color: white;}#sk-container-id-4 div.sk-parallel-item:first-child::after {align-self: flex-end;width: 50%;}#sk-container-id-4 div.sk-parallel-item:last-child::after {align-self: flex-start;width: 50%;}#sk-container-id-4 div.sk-parallel-item:only-child::after {width: 0;}#sk-container-id-4 div.sk-dashed-wrapped {border: 1px dashed gray;margin: 0 0.4em 0.5em 0.4em;box-sizing: border-box;padding-bottom: 0.4em;background-color: white;}#sk-container-id-4 div.sk-label label {font-family: monospace;font-weight: bold;display: inline-block;line-height: 1.2em;}#sk-container-id-4 div.sk-label-container {text-align: center;}#sk-container-id-4 div.sk-container {/* jupyter's `normalize.less` sets `[hidden] { display: none; }` but bootstrap.min.css set `[hidden] { display: none !important; }` so we also need the `!important` here to be able to override the default hidden behavior on the sphinx rendered scikit-learn.org. See: https://github.com/scikit-learn/scikit-learn/issues/21755 */display: inline-block !important;position: relative;}#sk-container-id-4 div.sk-text-repr-fallback {display: none;}</style><div id=\"sk-container-id-4\" class=\"sk-top-container\"><div class=\"sk-text-repr-fallback\"><pre>RandomForestClassifier(n_estimators=50, random_state=42)</pre><b>In a Jupyter environment, please rerun this cell to show the HTML representation or trust the notebook. <br />On GitHub, the HTML representation is unable to render, please try loading this page with nbviewer.org.</b></div><div class=\"sk-container\" hidden><div class=\"sk-item\"><div class=\"sk-estimator sk-toggleable\"><input class=\"sk-toggleable__control sk-hidden--visually\" id=\"sk-estimator-id-4\" type=\"checkbox\" checked><label for=\"sk-estimator-id-4\" class=\"sk-toggleable__label sk-toggleable__label-arrow\">RandomForestClassifier</label><div class=\"sk-toggleable__content\"><pre>RandomForestClassifier(n_estimators=50, random_state=42)</pre></div></div></div></div></div>"
            ]
          },
          "metadata": {},
          "execution_count": 77
        }
      ],
      "source": [
        "RF_model = RandomForestClassifier(n_estimators = 50, random_state = 42)\n",
        "RF_model.fit(predictions, y_train)"
      ]
    },
    {
      "cell_type": "code",
      "source": [
        "X_test_feature = model.predict(x_test)"
      ],
      "metadata": {
        "colab": {
          "base_uri": "https://localhost:8080/"
        },
        "id": "ckscOB4BQcIa",
        "outputId": "2d9ffefd-b9e2-4f30-af10-28476a0dbbe9"
      },
      "id": "ckscOB4BQcIa",
      "execution_count": null,
      "outputs": [
        {
          "output_type": "stream",
          "name": "stdout",
          "text": [
            "9/9 [==============================] - 0s 2ms/step\n"
          ]
        }
      ]
    },
    {
      "cell_type": "code",
      "execution_count": null,
      "id": "c7188c8c",
      "metadata": {
        "id": "c7188c8c"
      },
      "outputs": [],
      "source": [
        "pred_RF=RF_model.predict(X_test_feature)"
      ]
    },
    {
      "cell_type": "code",
      "execution_count": null,
      "id": "6fde38e6",
      "metadata": {
        "colab": {
          "base_uri": "https://localhost:8080/"
        },
        "id": "6fde38e6",
        "outputId": "4cd61c37-71ba-444c-f619-96db886f04f0"
      },
      "outputs": [
        {
          "output_type": "stream",
          "name": "stdout",
          "text": [
            "Accuracy =  0.9304029304029304\n"
          ]
        }
      ],
      "source": [
        "Accuracy_RF=metrics.accuracy_score(y_test, pred_RF)\n",
        "print (\"Accuracy = \", Accuracy_RF)"
      ]
    },
    {
      "cell_type": "code",
      "execution_count": null,
      "id": "6e8d7243",
      "metadata": {
        "colab": {
          "base_uri": "https://localhost:8080/"
        },
        "id": "6e8d7243",
        "outputId": "59264e7c-fe61-4db0-9fa3-551270b238e9"
      },
      "outputs": [
        {
          "output_type": "stream",
          "name": "stdout",
          "text": [
            "              precision    recall  f1-score   support\n",
            "\n",
            "           0       0.95      0.97      0.96       231\n",
            "           1       0.81      0.71      0.76        42\n",
            "\n",
            "    accuracy                           0.93       273\n",
            "   macro avg       0.88      0.84      0.86       273\n",
            "weighted avg       0.93      0.93      0.93       273\n",
            "\n"
          ]
        }
      ],
      "source": [
        "print(metrics.classification_report(y_test,pred_RF))"
      ]
    },
    {
      "cell_type": "code",
      "execution_count": null,
      "id": "e5fe95e0",
      "metadata": {
        "colab": {
          "base_uri": "https://localhost:8080/"
        },
        "id": "e5fe95e0",
        "outputId": "dbc68fe0-3cf6-456b-addd-f560db9c5e09"
      },
      "outputs": [
        {
          "output_type": "stream",
          "name": "stdout",
          "text": [
            "0.8419913419913421\n"
          ]
        }
      ],
      "source": [
        "# auc scores\n",
        "auc_score1 = roc_auc_score(y_test, pred_RF)\n",
        "print(auc_score1)"
      ]
    },
    {
      "cell_type": "code",
      "execution_count": null,
      "id": "ab6535fe",
      "metadata": {
        "id": "ab6535fe"
      },
      "outputs": [],
      "source": [
        "fpr1, tpr1, thresh1 = roc_curve(y_test, pred_RF, pos_label=1)\n",
        "\n",
        "# roc curve for tpr = fpr\n",
        "random_probs = [0 for i in range(len(y_test))]\n",
        "p_fpr, p_tpr, _ = roc_curve(y_test, random_probs, pos_label=1)"
      ]
    },
    {
      "cell_type": "code",
      "execution_count": null,
      "id": "42b69d04",
      "metadata": {
        "colab": {
          "base_uri": "https://localhost:8080/",
          "height": 579
        },
        "id": "42b69d04",
        "outputId": "65fc30a7-e692-42d9-e13e-38f6b88b0a23"
      },
      "outputs": [
        {
          "output_type": "stream",
          "name": "stderr",
          "text": [
            "<ipython-input-84-176a2f08748f>:2: MatplotlibDeprecationWarning: The seaborn styles shipped by Matplotlib are deprecated since 3.6, as they no longer correspond to the styles shipped by seaborn. However, they will remain available as 'seaborn-v0_8-<style>'. Alternatively, directly use the seaborn API instead.\n",
            "  plt.style.use('seaborn')\n"
          ]
        },
        {
          "output_type": "display_data",
          "data": {
            "text/plain": [
              "<Figure size 800x550 with 1 Axes>"
            ],
            "image/png": "[encoded data removed]"
          },
          "metadata": {}
        }
      ],
      "source": [
        "import matplotlib.pyplot as plt\n",
        "plt.style.use('seaborn')\n",
        "\n",
        "# plot roc curves\n",
        "plt.plot(fpr1, tpr1, linestyle='--',color='orange', label='Random Forest Classifier')\n",
        "plt.plot(p_fpr, p_tpr, linestyle='--', color='blue')\n",
        "# title\n",
        "plt.title('ROC curve')\n",
        "# x label\n",
        "plt.xlabel('False Positive Rate')\n",
        "# y label\n",
        "plt.ylabel('True Positive rate')\n",
        "\n",
        "plt.legend(loc='best')\n",
        "plt.savefig('ROC_RF',dpi=300)\n",
        "plt.show();"
      ]
    },
    {
      "cell_type": "code",
      "execution_count": null,
      "id": "8f170f2d",
      "metadata": {
        "id": "8f170f2d"
      },
      "outputs": [],
      "source": []
    }
  ],
  "metadata": {
    "kernelspec": {
      "display_name": "Python 3 (ipykernel)",
      "language": "python",
      "name": "python3"
    },
    "language_info": {
      "codemirror_mode": {
        "name": "ipython",
        "version": 3
      },
      "file_extension": ".py",
      "mimetype": "text/x-python",
      "name": "python",
      "nbconvert_exporter": "python",
      "pygments_lexer": "ipython3",
      "version": "3.9.13"
    },
    "colab": {
      "provenance": []
    }
  },
  "nbformat": 4,
  "nbformat_minor": 5
}