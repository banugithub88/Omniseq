{
  "cells": [
    {
      "cell_type": "code",
      "execution_count": 1,
      "id": "b549171d",
      "metadata": {
        "id": "b549171d"
      },
      "outputs": [],
      "source": [
        "import pandas as pd\n",
        "import numpy as np\n",
        "from sklearn.preprocessing import LabelEncoder\n",
        "from tensorflow.keras.models import Sequential\n",
        "from tensorflow.keras.layers import Dense, Activation, Dropout\n",
        "from sklearn.ensemble import RandomForestClassifier\n",
        "from sklearn.metrics import accuracy_score,classification_report, confusion_matrix,roc_auc_score,roc_curve\n",
        "import matplotlib.pyplot as plt\n",
        "import seaborn as sns\n",
        "from sklearn import metrics\n",
        "from sklearn.preprocessing import StandardScaler"
      ]
    },
    {
      "cell_type": "code",
      "execution_count": 2,
      "id": "80097b9a",
      "metadata": {
        "id": "80097b9a"
      },
      "outputs": [],
      "source": [
        "data=pd.read_excel('/content/sample_data/BCDexcel.xlsx')"
      ]
    },
    {
      "cell_type": "code",
      "execution_count": 3,
      "id": "4cb8fe45",
      "metadata": {
        "colab": {
          "base_uri": "https://localhost:8080/",
          "height": 620
        },
        "id": "4cb8fe45",
        "outputId": "bdd7f768-7a7e-41c5-a22a-6f10e75be37a"
      },
      "outputs": [
        {
          "output_type": "execute_result",
          "data": {
            "text/plain": [
              "        Study ID Patient ID Sample ID  Age at Diagnosis  \\\n",
              "0  brca_metabric    MB-0000   MB-0000             75.65   \n",
              "1  brca_metabric    MB-0002   MB-0002             43.19   \n",
              "2  brca_metabric    MB-0005   MB-0005             48.87   \n",
              "3  brca_metabric    MB-0006   MB-0006             47.68   \n",
              "4  brca_metabric    MB-0008   MB-0008             76.97   \n",
              "\n",
              "  Type of Breast Surgery    Cancer Type  \\\n",
              "0             MASTECTOMY  Breast Cancer   \n",
              "1      BREAST CONSERVING  Breast Cancer   \n",
              "2             MASTECTOMY  Breast Cancer   \n",
              "3             MASTECTOMY  Breast Cancer   \n",
              "4             MASTECTOMY  Breast Cancer   \n",
              "\n",
              "                        Cancer Type Detailed Cellularity Chemotherapy  \\\n",
              "0           Breast Invasive Ductal Carcinoma         NaN           NO   \n",
              "1           Breast Invasive Ductal Carcinoma        High           NO   \n",
              "2           Breast Invasive Ductal Carcinoma        High          YES   \n",
              "3  Breast Mixed Ductal and Lobular Carcinoma    Moderate          YES   \n",
              "4  Breast Mixed Ductal and Lobular Carcinoma        High          YES   \n",
              "\n",
              "  Pam50 + Claudin-low subtype  ...  Relapse Free Status (Months)  \\\n",
              "0                 claudin-low  ...                        138.65   \n",
              "1                        LumA  ...                         83.52   \n",
              "2                        LumB  ...                        151.28   \n",
              "3                        LumB  ...                        162.76   \n",
              "4                        LumB  ...                         18.55   \n",
              "\n",
              "  Relapse Free Status Number of Samples Per Patient  Sample Type     Sex  \\\n",
              "0      0:Not Recurred                             1      Primary  Female   \n",
              "1      0:Not Recurred                             1      Primary  Female   \n",
              "2          1:Recurred                             1      Primary  Female   \n",
              "3      0:Not Recurred                             1      Primary  Female   \n",
              "4          1:Recurred                             1      Primary  Female   \n",
              "\n",
              "  3-Gene classifier subtype TMB (nonsynonymous) Tumor Size Tumor Stage  \\\n",
              "0                 ER-/HER2-            0.000000       22.0         2.0   \n",
              "1     ER+/HER2- High Prolif            2.615035       10.0         1.0   \n",
              "2                       NaN            2.615035       15.0         2.0   \n",
              "3                       NaN            1.307518       25.0         2.0   \n",
              "4     ER+/HER2- High Prolif            2.615035       40.0         2.0   \n",
              "\n",
              "  Patient's Vital Status  \n",
              "0                 Living  \n",
              "1                 Living  \n",
              "2        Died of Disease  \n",
              "3                 Living  \n",
              "4        Died of Disease  \n",
              "\n",
              "[5 rows x 39 columns]"
            ],
            "text/html": [
              "\n",
              "  <div id=\"df-06b223d4-54aa-47da-a779-8f003b861ccf\" class=\"colab-df-container\">\n",
              "    <div>\n",
              "<style scoped>\n",
              "    .dataframe tbody tr th:only-of-type {\n",
              "        vertical-align: middle;\n",
              "    }\n",
              "\n",
              "    .dataframe tbody tr th {\n",
              "        vertical-align: top;\n",
              "    }\n",
              "\n",
              "    .dataframe thead th {\n",
              "        text-align: right;\n",
              "    }\n",
              "</style>\n",
              "<table border=\"1\" class=\"dataframe\">\n",
              "  <thead>\n",
              "    <tr style=\"text-align: right;\">\n",
              "      <th></th>\n",
              "      <th>Study ID</th>\n",
              "      <th>Patient ID</th>\n",
              "      <th>Sample ID</th>\n",
              "      <th>Age at Diagnosis</th>\n",
              "      <th>Type of Breast Surgery</th>\n",
              "      <th>Cancer Type</th>\n",
              "      <th>Cancer Type Detailed</th>\n",
              "      <th>Cellularity</th>\n",
              "      <th>Chemotherapy</th>\n",
              "      <th>Pam50 + Claudin-low subtype</th>\n",
              "      <th>...</th>\n",
              "      <th>Relapse Free Status (Months)</th>\n",
              "      <th>Relapse Free Status</th>\n",
              "      <th>Number of Samples Per Patient</th>\n",
              "      <th>Sample Type</th>\n",
              "      <th>Sex</th>\n",
              "      <th>3-Gene classifier subtype</th>\n",
              "      <th>TMB (nonsynonymous)</th>\n",
              "      <th>Tumor Size</th>\n",
              "      <th>Tumor Stage</th>\n",
              "      <th>Patient's Vital Status</th>\n",
              "    </tr>\n",
              "  </thead>\n",
              "  <tbody>\n",
              "    <tr>\n",
              "      <th>0</th>\n",
              "      <td>brca_metabric</td>\n",
              "      <td>MB-0000</td>\n",
              "      <td>MB-0000</td>\n",
              "      <td>75.65</td>\n",
              "      <td>MASTECTOMY</td>\n",
              "      <td>Breast Cancer</td>\n",
              "      <td>Breast Invasive Ductal Carcinoma</td>\n",
              "      <td>NaN</td>\n",
              "      <td>NO</td>\n",
              "      <td>claudin-low</td>\n",
              "      <td>...</td>\n",
              "      <td>138.65</td>\n",
              "      <td>0:Not Recurred</td>\n",
              "      <td>1</td>\n",
              "      <td>Primary</td>\n",
              "      <td>Female</td>\n",
              "      <td>ER-/HER2-</td>\n",
              "      <td>0.000000</td>\n",
              "      <td>22.0</td>\n",
              "      <td>2.0</td>\n",
              "      <td>Living</td>\n",
              "    </tr>\n",
              "    <tr>\n",
              "      <th>1</th>\n",
              "      <td>brca_metabric</td>\n",
              "      <td>MB-0002</td>\n",
              "      <td>MB-0002</td>\n",
              "      <td>43.19</td>\n",
              "      <td>BREAST CONSERVING</td>\n",
              "      <td>Breast Cancer</td>\n",
              "      <td>Breast Invasive Ductal Carcinoma</td>\n",
              "      <td>High</td>\n",
              "      <td>NO</td>\n",
              "      <td>LumA</td>\n",
              "      <td>...</td>\n",
              "      <td>83.52</td>\n",
              "      <td>0:Not Recurred</td>\n",
              "      <td>1</td>\n",
              "      <td>Primary</td>\n",
              "      <td>Female</td>\n",
              "      <td>ER+/HER2- High Prolif</td>\n",
              "      <td>2.615035</td>\n",
              "      <td>10.0</td>\n",
              "      <td>1.0</td>\n",
              "      <td>Living</td>\n",
              "    </tr>\n",
              "    <tr>\n",
              "      <th>2</th>\n",
              "      <td>brca_metabric</td>\n",
              "      <td>MB-0005</td>\n",
              "      <td>MB-0005</td>\n",
              "      <td>48.87</td>\n",
              "      <td>MASTECTOMY</td>\n",
              "      <td>Breast Cancer</td>\n",
              "      <td>Breast Invasive Ductal Carcinoma</td>\n",
              "      <td>High</td>\n",
              "      <td>YES</td>\n",
              "      <td>LumB</td>\n",
              "      <td>...</td>\n",
              "      <td>151.28</td>\n",
              "      <td>1:Recurred</td>\n",
              "      <td>1</td>\n",
              "      <td>Primary</td>\n",
              "      <td>Female</td>\n",
              "      <td>NaN</td>\n",
              "      <td>2.615035</td>\n",
              "      <td>15.0</td>\n",
              "      <td>2.0</td>\n",
              "      <td>Died of Disease</td>\n",
              "    </tr>\n",
              "    <tr>\n",
              "      <th>3</th>\n",
              "      <td>brca_metabric</td>\n",
              "      <td>MB-0006</td>\n",
              "      <td>MB-0006</td>\n",
              "      <td>47.68</td>\n",
              "      <td>MASTECTOMY</td>\n",
              "      <td>Breast Cancer</td>\n",
              "      <td>Breast Mixed Ductal and Lobular Carcinoma</td>\n",
              "      <td>Moderate</td>\n",
              "      <td>YES</td>\n",
              "      <td>LumB</td>\n",
              "      <td>...</td>\n",
              "      <td>162.76</td>\n",
              "      <td>0:Not Recurred</td>\n",
              "      <td>1</td>\n",
              "      <td>Primary</td>\n",
              "      <td>Female</td>\n",
              "      <td>NaN</td>\n",
              "      <td>1.307518</td>\n",
              "      <td>25.0</td>\n",
              "      <td>2.0</td>\n",
              "      <td>Living</td>\n",
              "    </tr>\n",
              "    <tr>\n",
              "      <th>4</th>\n",
              "      <td>brca_metabric</td>\n",
              "      <td>MB-0008</td>\n",
              "      <td>MB-0008</td>\n",
              "      <td>76.97</td>\n",
              "      <td>MASTECTOMY</td>\n",
              "      <td>Breast Cancer</td>\n",
              "      <td>Breast Mixed Ductal and Lobular Carcinoma</td>\n",
              "      <td>High</td>\n",
              "      <td>YES</td>\n",
              "      <td>LumB</td>\n",
              "      <td>...</td>\n",
              "      <td>18.55</td>\n",
              "      <td>1:Recurred</td>\n",
              "      <td>1</td>\n",
              "      <td>Primary</td>\n",
              "      <td>Female</td>\n",
              "      <td>ER+/HER2- High Prolif</td>\n",
              "      <td>2.615035</td>\n",
              "      <td>40.0</td>\n",
              "      <td>2.0</td>\n",
              "      <td>Died of Disease</td>\n",
              "    </tr>\n",
              "  </tbody>\n",
              "</table>\n",
              "<p>5 rows × 39 columns</p>\n",
              "</div>\n",
              "    <div class=\"colab-df-buttons\">\n",
              "\n",
              "  <div class=\"colab-df-container\">\n",
              "    <button class=\"colab-df-convert\" onclick=\"convertToInteractive('df-06b223d4-54aa-47da-a779-8f003b861ccf')\"\n",
              "            title=\"Convert this dataframe to an interactive table.\"\n",
              "            style=\"display:none;\">\n",
              "\n",
              "  <svg xmlns=\"http://www.w3.org/2000/svg\" height=\"24px\" viewBox=\"0 -960 960 960\">\n",
              "    <path d=\"M120-120v-720h720v720H120Zm60-500h600v-160H180v160Zm220 220h160v-160H400v160Zm0 220h160v-160H400v160ZM180-400h160v-160H180v160Zm440 0h160v-160H620v160ZM180-180h160v-160H180v160Zm440 0h160v-160H620v160Z\"/>\n",
              "  </svg>\n",
              "    </button>\n",
              "\n",
              "  <style>\n",
              "    .colab-df-container {\n",
              "      display:flex;\n",
              "      gap: 12px;\n",
              "    }\n",
              "\n",
              "    .colab-df-convert {\n",
              "      background-color: #E8F0FE;\n",
              "      border: none;\n",
              "      border-radius: 50%;\n",
              "      cursor: pointer;\n",
              "      display: none;\n",
              "      fill: #1967D2;\n",
              "      height: 32px;\n",
              "      padding: 0 0 0 0;\n",
              "      width: 32px;\n",
              "    }\n",
              "\n",
              "    .colab-df-convert:hover {\n",
              "      background-color: #E2EBFA;\n",
              "      box-shadow: 0px 1px 2px rgba(60, 64, 67, 0.3), 0px 1px 3px 1px rgba(60, 64, 67, 0.15);\n",
              "      fill: #174EA6;\n",
              "    }\n",
              "\n",
              "    .colab-df-buttons div {\n",
              "      margin-bottom: 4px;\n",
              "    }\n",
              "\n",
              "    [theme=dark] .colab-df-convert {\n",
              "      background-color: #3B4455;\n",
              "      fill: #D2E3FC;\n",
              "    }\n",
              "\n",
              "    [theme=dark] .colab-df-convert:hover {\n",
              "      background-color: #434B5C;\n",
              "      box-shadow: 0px 1px 3px 1px rgba(0, 0, 0, 0.15);\n",
              "      filter: drop-shadow(0px 1px 2px rgba(0, 0, 0, 0.3));\n",
              "      fill: #FFFFFF;\n",
              "    }\n",
              "  </style>\n",
              "\n",
              "    <script>\n",
              "      const buttonEl =\n",
              "        document.querySelector('#df-06b223d4-54aa-47da-a779-8f003b861ccf button.colab-df-convert');\n",
              "      buttonEl.style.display =\n",
              "        google.colab.kernel.accessAllowed ? 'block' : 'none';\n",
              "\n",
              "      async function convertToInteractive(key) {\n",
              "        const element = document.querySelector('#df-06b223d4-54aa-47da-a779-8f003b861ccf');\n",
              "        const dataTable =\n",
              "          await google.colab.kernel.invokeFunction('convertToInteractive',\n",
              "                                                    [key], {});\n",
              "        if (!dataTable) return;\n",
              "\n",
              "        const docLinkHtml = 'Like what you see? Visit the ' +\n",
              "          '<a target=\"_blank\" href=https://colab.research.google.com/notebooks/data_table.ipynb>data table notebook</a>'\n",
              "          + ' to learn more about interactive tables.';\n",
              "        element.innerHTML = '';\n",
              "        dataTable['output_type'] = 'display_data';\n",
              "        await google.colab.output.renderOutput(dataTable, element);\n",
              "        const docLink = document.createElement('div');\n",
              "        docLink.innerHTML = docLinkHtml;\n",
              "        element.appendChild(docLink);\n",
              "      }\n",
              "    </script>\n",
              "  </div>\n",
              "\n",
              "\n",
              "<div id=\"df-4c3a56c4-9741-42bb-abd8-13446a75f98a\">\n",
              "  <button class=\"colab-df-quickchart\" onclick=\"quickchart('df-4c3a56c4-9741-42bb-abd8-13446a75f98a')\"\n",
              "            title=\"Suggest charts\"\n",
              "            style=\"display:none;\">\n",
              "\n",
              "<svg xmlns=\"http://www.w3.org/2000/svg\" height=\"24px\"viewBox=\"0 0 24 24\"\n",
              "     width=\"24px\">\n",
              "    <g>\n",
              "        <path d=\"M19 3H5c-1.1 0-2 .9-2 2v14c0 1.1.9 2 2 2h14c1.1 0 2-.9 2-2V5c0-1.1-.9-2-2-2zM9 17H7v-7h2v7zm4 0h-2V7h2v10zm4 0h-2v-4h2v4z\"/>\n",
              "    </g>\n",
              "</svg>\n",
              "  </button>\n",
              "\n",
              "<style>\n",
              "  .colab-df-quickchart {\n",
              "      --bg-color: #E8F0FE;\n",
              "      --fill-color: #1967D2;\n",
              "      --hover-bg-color: #E2EBFA;\n",
              "      --hover-fill-color: #174EA6;\n",
              "      --disabled-fill-color: #AAA;\n",
              "      --disabled-bg-color: #DDD;\n",
              "  }\n",
              "\n",
              "  [theme=dark] .colab-df-quickchart {\n",
              "      --bg-color: #3B4455;\n",
              "      --fill-color: #D2E3FC;\n",
              "      --hover-bg-color: #434B5C;\n",
              "      --hover-fill-color: #FFFFFF;\n",
              "      --disabled-bg-color: #3B4455;\n",
              "      --disabled-fill-color: #666;\n",
              "  }\n",
              "\n",
              "  .colab-df-quickchart {\n",
              "    background-color: var(--bg-color);\n",
              "    border: none;\n",
              "    border-radius: 50%;\n",
              "    cursor: pointer;\n",
              "    display: none;\n",
              "    fill: var(--fill-color);\n",
              "    height: 32px;\n",
              "    padding: 0;\n",
              "    width: 32px;\n",
              "  }\n",
              "\n",
              "  .colab-df-quickchart:hover {\n",
              "    background-color: var(--hover-bg-color);\n",
              "    box-shadow: 0 1px 2px rgba(60, 64, 67, 0.3), 0 1px 3px 1px rgba(60, 64, 67, 0.15);\n",
              "    fill: var(--button-hover-fill-color);\n",
              "  }\n",
              "\n",
              "  .colab-df-quickchart-complete:disabled,\n",
              "  .colab-df-quickchart-complete:disabled:hover {\n",
              "    background-color: var(--disabled-bg-color);\n",
              "    fill: var(--disabled-fill-color);\n",
              "    box-shadow: none;\n",
              "  }\n",
              "\n",
              "  .colab-df-spinner {\n",
              "    border: 2px solid var(--fill-color);\n",
              "    border-color: transparent;\n",
              "    border-bottom-color: var(--fill-color);\n",
              "    animation:\n",
              "      spin 1s steps(1) infinite;\n",
              "  }\n",
              "\n",
              "  @keyframes spin {\n",
              "    0% {\n",
              "      border-color: transparent;\n",
              "      border-bottom-color: var(--fill-color);\n",
              "      border-left-color: var(--fill-color);\n",
              "    }\n",
              "    20% {\n",
              "      border-color: transparent;\n",
              "      border-left-color: var(--fill-color);\n",
              "      border-top-color: var(--fill-color);\n",
              "    }\n",
              "    30% {\n",
              "      border-color: transparent;\n",
              "      border-left-color: var(--fill-color);\n",
              "      border-top-color: var(--fill-color);\n",
              "      border-right-color: var(--fill-color);\n",
              "    }\n",
              "    40% {\n",
              "      border-color: transparent;\n",
              "      border-right-color: var(--fill-color);\n",
              "      border-top-color: var(--fill-color);\n",
              "    }\n",
              "    60% {\n",
              "      border-color: transparent;\n",
              "      border-right-color: var(--fill-color);\n",
              "    }\n",
              "    80% {\n",
              "      border-color: transparent;\n",
              "      border-right-color: var(--fill-color);\n",
              "      border-bottom-color: var(--fill-color);\n",
              "    }\n",
              "    90% {\n",
              "      border-color: transparent;\n",
              "      border-bottom-color: var(--fill-color);\n",
              "    }\n",
              "  }\n",
              "</style>\n",
              "\n",
              "  <script>\n",
              "    async function quickchart(key) {\n",
              "      const quickchartButtonEl =\n",
              "        document.querySelector('#' + key + ' button');\n",
              "      quickchartButtonEl.disabled = true;  // To prevent multiple clicks.\n",
              "      quickchartButtonEl.classList.add('colab-df-spinner');\n",
              "      try {\n",
              "        const charts = await google.colab.kernel.invokeFunction(\n",
              "            'suggestCharts', [key], {});\n",
              "      } catch (error) {\n",
              "        console.error('Error during call to suggestCharts:', error);\n",
              "      }\n",
              "      quickchartButtonEl.classList.remove('colab-df-spinner');\n",
              "      quickchartButtonEl.classList.add('colab-df-quickchart-complete');\n",
              "    }\n",
              "    (() => {\n",
              "      let quickchartButtonEl =\n",
              "        document.querySelector('#df-4c3a56c4-9741-42bb-abd8-13446a75f98a button');\n",
              "      quickchartButtonEl.style.display =\n",
              "        google.colab.kernel.accessAllowed ? 'block' : 'none';\n",
              "    })();\n",
              "  </script>\n",
              "</div>\n",
              "\n",
              "    </div>\n",
              "  </div>\n"
            ],
            "application/vnd.google.colaboratory.intrinsic+json": {
              "type": "dataframe",
              "variable_name": "data"
            }
          },
          "metadata": {},
          "execution_count": 3
        }
      ],
      "source": [
        "data.head()"
      ]
    },
    {
      "cell_type": "code",
      "execution_count": 4,
      "id": "6b5e2d2d",
      "metadata": {
        "colab": {
          "base_uri": "https://localhost:8080/"
        },
        "id": "6b5e2d2d",
        "outputId": "9f283d28-dd63-4d20-f6d3-36d927e3e467"
      },
      "outputs": [
        {
          "output_type": "execute_result",
          "data": {
            "text/plain": [
              "Index(['Study ID', 'Patient ID', 'Sample ID', 'Age at Diagnosis',\n",
              "       'Type of Breast Surgery', 'Cancer Type', 'Cancer Type Detailed',\n",
              "       'Cellularity', 'Chemotherapy', 'Pam50 + Claudin-low subtype', 'Cohort',\n",
              "       'ER status measured by IHC', 'ER Status', 'Neoplasm Histologic Grade',\n",
              "       'HER2 status measured by SNP6', 'HER2 Status',\n",
              "       'Tumor Other Histologic Subtype', 'Hormone Therapy',\n",
              "       'Inferred Menopausal State', 'Integrative Cluster',\n",
              "       'Primary Tumor Laterality', 'Lymph nodes examined positive',\n",
              "       'Mutation Count', 'Nottingham prognostic index', 'Oncotree Code',\n",
              "       'Overall Survival (Months)', 'Overall Survival Status', 'PR Status',\n",
              "       'Radio Therapy', 'Relapse Free Status (Months)', 'Relapse Free Status',\n",
              "       'Number of Samples Per Patient', 'Sample Type', 'Sex',\n",
              "       '3-Gene classifier subtype', 'TMB (nonsynonymous)', 'Tumor Size',\n",
              "       'Tumor Stage', 'Patient's Vital Status'],\n",
              "      dtype='object')"
            ]
          },
          "metadata": {},
          "execution_count": 4
        }
      ],
      "source": [
        "data.columns"
      ]
    },
    {
      "cell_type": "code",
      "execution_count": 5,
      "id": "626324b9",
      "metadata": {
        "colab": {
          "base_uri": "https://localhost:8080/"
        },
        "id": "626324b9",
        "outputId": "546d5220-e3a5-4eca-fcfe-1977ca232022"
      },
      "outputs": [
        {
          "output_type": "stream",
          "name": "stdout",
          "text": [
            "<class 'pandas.core.frame.DataFrame'>\n",
            "RangeIndex: 2509 entries, 0 to 2508\n",
            "Data columns (total 39 columns):\n",
            " #   Column                          Non-Null Count  Dtype  \n",
            "---  ------                          --------------  -----  \n",
            " 0   Study ID                        2509 non-null   object \n",
            " 1   Patient ID                      2509 non-null   object \n",
            " 2   Sample ID                       2509 non-null   object \n",
            " 3   Age at Diagnosis                2498 non-null   float64\n",
            " 4   Type of Breast Surgery          1955 non-null   object \n",
            " 5   Cancer Type                     2509 non-null   object \n",
            " 6   Cancer Type Detailed            2509 non-null   object \n",
            " 7   Cellularity                     1917 non-null   object \n",
            " 8   Chemotherapy                    1980 non-null   object \n",
            " 9   Pam50 + Claudin-low subtype     1980 non-null   object \n",
            " 10  Cohort                          2498 non-null   float64\n",
            " 11  ER status measured by IHC       2426 non-null   object \n",
            " 12  ER Status                       2469 non-null   object \n",
            " 13  Neoplasm Histologic Grade       2388 non-null   float64\n",
            " 14  HER2 status measured by SNP6    1980 non-null   object \n",
            " 15  HER2 Status                     1980 non-null   object \n",
            " 16  Tumor Other Histologic Subtype  2374 non-null   object \n",
            " 17  Hormone Therapy                 1980 non-null   object \n",
            " 18  Inferred Menopausal State       1980 non-null   object \n",
            " 19  Integrative Cluster             1980 non-null   object \n",
            " 20  Primary Tumor Laterality        1870 non-null   object \n",
            " 21  Lymph nodes examined positive   2243 non-null   float64\n",
            " 22  Mutation Count                  2358 non-null   float64\n",
            " 23  Nottingham prognostic index     2287 non-null   float64\n",
            " 24  Oncotree Code                   2509 non-null   object \n",
            " 25  Overall Survival (Months)       1981 non-null   float64\n",
            " 26  Overall Survival Status         1981 non-null   object \n",
            " 27  PR Status                       1980 non-null   object \n",
            " 28  Radio Therapy                   1980 non-null   object \n",
            " 29  Relapse Free Status (Months)    2388 non-null   float64\n",
            " 30  Relapse Free Status             2488 non-null   object \n",
            " 31  Number of Samples Per Patient   2509 non-null   int64  \n",
            " 32  Sample Type                     2509 non-null   object \n",
            " 33  Sex                             2509 non-null   object \n",
            " 34  3-Gene classifier subtype       1764 non-null   object \n",
            " 35  TMB (nonsynonymous)             2509 non-null   float64\n",
            " 36  Tumor Size                      2360 non-null   float64\n",
            " 37  Tumor Stage                     1788 non-null   float64\n",
            " 38  Patient's Vital Status          1980 non-null   object \n",
            "dtypes: float64(11), int64(1), object(27)\n",
            "memory usage: 764.6+ KB\n"
          ]
        }
      ],
      "source": [
        "data.info()"
      ]
    },
    {
      "cell_type": "code",
      "execution_count": 6,
      "id": "b9da7ba2",
      "metadata": {
        "id": "b9da7ba2"
      },
      "outputs": [],
      "source": [
        "data.drop(['Patient ID','Sample ID','Integrative Cluster'],axis=1,inplace=True)"
      ]
    },
    {
      "cell_type": "code",
      "execution_count": 7,
      "id": "a7350231",
      "metadata": {
        "id": "a7350231"
      },
      "outputs": [],
      "source": [
        "data.dropna(inplace = True)"
      ]
    },
    {
      "cell_type": "code",
      "execution_count": 8,
      "id": "d2f4d6be",
      "metadata": {
        "colab": {
          "base_uri": "https://localhost:8080/"
        },
        "id": "d2f4d6be",
        "outputId": "65fc8c40-9371-4a7a-e0ed-3a6a29c36b32"
      },
      "outputs": [
        {
          "output_type": "execute_result",
          "data": {
            "text/plain": [
              "Study ID                          0\n",
              "Age at Diagnosis                  0\n",
              "Type of Breast Surgery            0\n",
              "Cancer Type                       0\n",
              "Cancer Type Detailed              0\n",
              "Cellularity                       0\n",
              "Chemotherapy                      0\n",
              "Pam50 + Claudin-low subtype       0\n",
              "Cohort                            0\n",
              "ER status measured by IHC         0\n",
              "ER Status                         0\n",
              "Neoplasm Histologic Grade         0\n",
              "HER2 status measured by SNP6      0\n",
              "HER2 Status                       0\n",
              "Tumor Other Histologic Subtype    0\n",
              "Hormone Therapy                   0\n",
              "Inferred Menopausal State         0\n",
              "Primary Tumor Laterality          0\n",
              "Lymph nodes examined positive     0\n",
              "Mutation Count                    0\n",
              "Nottingham prognostic index       0\n",
              "Oncotree Code                     0\n",
              "Overall Survival (Months)         0\n",
              "Overall Survival Status           0\n",
              "PR Status                         0\n",
              "Radio Therapy                     0\n",
              "Relapse Free Status (Months)      0\n",
              "Relapse Free Status               0\n",
              "Number of Samples Per Patient     0\n",
              "Sample Type                       0\n",
              "Sex                               0\n",
              "3-Gene classifier subtype         0\n",
              "TMB (nonsynonymous)               0\n",
              "Tumor Size                        0\n",
              "Tumor Stage                       0\n",
              "Patient's Vital Status            0\n",
              "dtype: int64"
            ]
          },
          "metadata": {},
          "execution_count": 8
        }
      ],
      "source": [
        "data.isnull().sum()"
      ]
    },
    {
      "cell_type": "code",
      "execution_count": 9,
      "id": "367cdfab",
      "metadata": {
        "colab": {
          "base_uri": "https://localhost:8080/"
        },
        "id": "367cdfab",
        "outputId": "d4a668f7-6946-4467-bec5-8fb503f84101"
      },
      "outputs": [
        {
          "output_type": "execute_result",
          "data": {
            "text/plain": [
              "ER status measured by IHC\n",
              "Positve     846\n",
              "Negative    246\n",
              "Name: count, dtype: int64"
            ]
          },
          "metadata": {},
          "execution_count": 9
        }
      ],
      "source": [
        "data['ER status measured by IHC'].value_counts()"
      ]
    },
    {
      "cell_type": "code",
      "execution_count": 10,
      "id": "dd1080c5",
      "metadata": {
        "colab": {
          "base_uri": "https://localhost:8080/"
        },
        "id": "dd1080c5",
        "outputId": "d85c70e1-f40e-4dbb-c4c7-c0d4e71b0015"
      },
      "outputs": [
        {
          "output_type": "execute_result",
          "data": {
            "text/plain": [
              "0"
            ]
          },
          "metadata": {},
          "execution_count": 10
        }
      ],
      "source": [
        "data.duplicated().sum()"
      ]
    },
    {
      "cell_type": "code",
      "execution_count": 11,
      "id": "7d452b17",
      "metadata": {
        "id": "7d452b17"
      },
      "outputs": [],
      "source": [
        "x=data.drop('ER status measured by IHC',axis=1)\n",
        "y=data['ER status measured by IHC']"
      ]
    },
    {
      "cell_type": "code",
      "execution_count": 12,
      "id": "432df4a1",
      "metadata": {
        "colab": {
          "base_uri": "https://localhost:8080/"
        },
        "id": "432df4a1",
        "outputId": "a3a1270d-1ef5-4a50-d530-b3fefdbf63b6"
      },
      "outputs": [
        {
          "output_type": "execute_result",
          "data": {
            "text/plain": [
              "ER status measured by IHC\n",
              "Positve     846\n",
              "Negative    246\n",
              "Name: count, dtype: int64"
            ]
          },
          "metadata": {},
          "execution_count": 12
        }
      ],
      "source": [
        "y.value_counts()"
      ]
    },
    {
      "cell_type": "code",
      "execution_count": 13,
      "id": "5bffbea1",
      "metadata": {
        "id": "5bffbea1"
      },
      "outputs": [],
      "source": [
        "x=x.apply(LabelEncoder().fit_transform)\n",
        "y=LabelEncoder().fit_transform(y)"
      ]
    },
    {
      "cell_type": "code",
      "execution_count": 14,
      "id": "9f003488",
      "metadata": {
        "colab": {
          "base_uri": "https://localhost:8080/"
        },
        "id": "9f003488",
        "outputId": "fee18cdc-1add-49c9-f1a9-8d7c8f514446"
      },
      "outputs": [
        {
          "output_type": "execute_result",
          "data": {
            "text/plain": [
              "array([1, 1, 1, ..., 0, 1, 1])"
            ]
          },
          "metadata": {},
          "execution_count": 14
        }
      ],
      "source": [
        "y"
      ]
    },
    {
      "cell_type": "code",
      "execution_count": 15,
      "id": "aa75cd26",
      "metadata": {
        "colab": {
          "base_uri": "https://localhost:8080/"
        },
        "id": "aa75cd26",
        "outputId": "f20233ba-4d25-49b1-8be6-23f45e467616"
      },
      "outputs": [
        {
          "output_type": "execute_result",
          "data": {
            "text/plain": [
              "('Study ID', 'Age at Diagnosis', 'Overall Survival (Months)')"
            ]
          },
          "metadata": {},
          "execution_count": 15
        }
      ],
      "source": [
        "from mlxtend.feature_selection import SequentialFeatureSelector as SFS\n",
        "from sklearn.tree import DecisionTreeClassifier\n",
        "# Sequential Forward Floating Selection(sffs)\n",
        "sffs = SFS(DecisionTreeClassifier(),\n",
        "          k_features=(3,11),\n",
        "          forward=True,\n",
        "          floating=True,\n",
        "          cv=0)\n",
        "sffs.fit(x, y)\n",
        "sffs.k_feature_names_"
      ]
    },
    {
      "cell_type": "code",
      "execution_count": 16,
      "id": "eaf2e937",
      "metadata": {
        "id": "eaf2e937"
      },
      "outputs": [],
      "source": [
        "x=StandardScaler().fit_transform(x)"
      ]
    },
    {
      "cell_type": "code",
      "execution_count": 17,
      "id": "54d2277e",
      "metadata": {
        "id": "54d2277e"
      },
      "outputs": [],
      "source": [
        "from sklearn.model_selection import train_test_split\n",
        "x_train, x_test, y_train, y_test= train_test_split(x, y, test_size= 0.25, random_state=42)"
      ]
    },
    {
      "cell_type": "code",
      "execution_count": 18,
      "id": "05c92dde",
      "metadata": {
        "colab": {
          "base_uri": "https://localhost:8080/"
        },
        "id": "05c92dde",
        "outputId": "bf2b9c13-0bd5-4628-d11f-37612a9ac9bf"
      },
      "outputs": [
        {
          "output_type": "stream",
          "name": "stdout",
          "text": [
            "Number of components selected: 11\n"
          ]
        }
      ],
      "source": [
        "from sklearn.decomposition import TruncatedSVD\n",
        "import numpy as np\n",
        "\n",
        "# Initialize SVD and fit on the training data\n",
        "svd = TruncatedSVD(n_components=x_train.shape[1] - 1)  # Use one less component than the feature count\n",
        "X_train_svd = svd.fit_transform(x_train)\n",
        "\n",
        "# Calculate explained variance ratio for each component\n",
        "explained_variance_ratio = svd.explained_variance_ratio_\n",
        "\n",
        "# Calculate the cumulative explained variance\n",
        "cumulative_explained_variance = np.cumsum(explained_variance_ratio)\n",
        "\n",
        "# Find the number of components that explain at least 75% of the variance\n",
        "n_components = np.argmax(cumulative_explained_variance >= 0.75) + 1\n",
        "\n",
        "# Transform both the training and test data to the selected number of components\n",
        "x_train = svd.transform(x_train)[:, :n_components]\n",
        "x_test = svd.transform(x_test)[:, :n_components]\n",
        "\n",
        "# Print the number of components selected\n",
        "print(f\"Number of components selected: {n_components}\")"
      ]
    },
    {
      "cell_type": "code",
      "execution_count": 19,
      "id": "8901215d",
      "metadata": {
        "id": "8901215d"
      },
      "outputs": [],
      "source": [
        "model = Sequential()\n",
        "model.add(Dense(units = 30,activation='relu'))\n",
        "model.add(Dense(units = 30,activation='relu'))\n",
        "model.add(Dense(units = 1,activation='sigmoid'))\n",
        "model.compile(optimizer='adam',loss = 'binary_crossentropy',metrics=['accuracy'])"
      ]
    },
    {
      "cell_type": "code",
      "execution_count": 20,
      "id": "22c76501",
      "metadata": {
        "colab": {
          "base_uri": "https://localhost:8080/"
        },
        "id": "22c76501",
        "outputId": "59e74341-62ad-45ec-d86d-0c5910093d1c"
      },
      "outputs": [
        {
          "output_type": "stream",
          "name": "stdout",
          "text": [
            "Epoch 1/30\n",
            "26/26 [==============================] - 1s 2ms/step - loss: 0.6521 - accuracy: 0.5910\n",
            "Epoch 2/30\n",
            "26/26 [==============================] - 0s 2ms/step - loss: 0.4202 - accuracy: 0.8828\n",
            "Epoch 3/30\n",
            "26/26 [==============================] - 0s 2ms/step - loss: 0.2904 - accuracy: 0.9316\n",
            "Epoch 4/30\n",
            "26/26 [==============================] - 0s 2ms/step - loss: 0.2104 - accuracy: 0.9499\n",
            "Epoch 5/30\n",
            "26/26 [==============================] - 0s 2ms/step - loss: 0.1635 - accuracy: 0.9585\n",
            "Epoch 6/30\n",
            "26/26 [==============================] - 0s 2ms/step - loss: 0.1398 - accuracy: 0.9597\n",
            "Epoch 7/30\n",
            "26/26 [==============================] - 0s 3ms/step - loss: 0.1259 - accuracy: 0.9609\n",
            "Epoch 8/30\n",
            "26/26 [==============================] - 0s 2ms/step - loss: 0.1193 - accuracy: 0.9609\n",
            "Epoch 9/30\n",
            "26/26 [==============================] - 0s 2ms/step - loss: 0.1133 - accuracy: 0.9634\n",
            "Epoch 10/30\n",
            "26/26 [==============================] - 0s 2ms/step - loss: 0.1073 - accuracy: 0.9658\n",
            "Epoch 11/30\n",
            "26/26 [==============================] - 0s 2ms/step - loss: 0.1038 - accuracy: 0.9670\n",
            "Epoch 12/30\n",
            "26/26 [==============================] - 0s 2ms/step - loss: 0.1000 - accuracy: 0.9695\n",
            "Epoch 13/30\n",
            "26/26 [==============================] - 0s 2ms/step - loss: 0.0971 - accuracy: 0.9707\n",
            "Epoch 14/30\n",
            "26/26 [==============================] - 0s 2ms/step - loss: 0.0936 - accuracy: 0.9744\n",
            "Epoch 15/30\n",
            "26/26 [==============================] - 0s 2ms/step - loss: 0.0908 - accuracy: 0.9744\n",
            "Epoch 16/30\n",
            "26/26 [==============================] - 0s 2ms/step - loss: 0.0881 - accuracy: 0.9744\n",
            "Epoch 17/30\n",
            "26/26 [==============================] - 0s 2ms/step - loss: 0.0860 - accuracy: 0.9756\n",
            "Epoch 18/30\n",
            "26/26 [==============================] - 0s 2ms/step - loss: 0.0835 - accuracy: 0.9756\n",
            "Epoch 19/30\n",
            "26/26 [==============================] - 0s 2ms/step - loss: 0.0808 - accuracy: 0.9768\n",
            "Epoch 20/30\n",
            "26/26 [==============================] - 0s 2ms/step - loss: 0.0796 - accuracy: 0.9780\n",
            "Epoch 21/30\n",
            "26/26 [==============================] - 0s 2ms/step - loss: 0.0765 - accuracy: 0.9780\n",
            "Epoch 22/30\n",
            "26/26 [==============================] - 0s 2ms/step - loss: 0.0746 - accuracy: 0.9768\n",
            "Epoch 23/30\n",
            "26/26 [==============================] - 0s 2ms/step - loss: 0.0726 - accuracy: 0.9780\n",
            "Epoch 24/30\n",
            "26/26 [==============================] - 0s 2ms/step - loss: 0.0704 - accuracy: 0.9805\n",
            "Epoch 25/30\n",
            "26/26 [==============================] - 0s 2ms/step - loss: 0.0691 - accuracy: 0.9780\n",
            "Epoch 26/30\n",
            "26/26 [==============================] - 0s 2ms/step - loss: 0.0665 - accuracy: 0.9805\n",
            "Epoch 27/30\n",
            "26/26 [==============================] - 0s 2ms/step - loss: 0.0655 - accuracy: 0.9792\n",
            "Epoch 28/30\n",
            "26/26 [==============================] - 0s 3ms/step - loss: 0.0631 - accuracy: 0.9817\n",
            "Epoch 29/30\n",
            "26/26 [==============================] - 0s 2ms/step - loss: 0.0615 - accuracy: 0.9817\n",
            "Epoch 30/30\n",
            "26/26 [==============================] - 0s 2ms/step - loss: 0.0604 - accuracy: 0.9829\n"
          ]
        },
        {
          "output_type": "execute_result",
          "data": {
            "text/plain": [
              "<keras.src.callbacks.History at 0x7b7abf24f3d0>"
            ]
          },
          "metadata": {},
          "execution_count": 20
        }
      ],
      "source": [
        "model.fit(x = x_train,\n",
        "          y = y_train,\n",
        "          epochs = 30,\n",
        "         #validation_data=(x_test, y_test),\n",
        "          #batch_size = 1,\n",
        "         verbose=1)"
      ]
    },
    {
      "cell_type": "code",
      "execution_count": 21,
      "id": "1bc72277",
      "metadata": {
        "colab": {
          "base_uri": "https://localhost:8080/"
        },
        "id": "1bc72277",
        "outputId": "0e37cf7d-053e-4cbd-8eaf-26089a909724"
      },
      "outputs": [
        {
          "output_type": "stream",
          "name": "stdout",
          "text": [
            "9/9 [==============================] - 0s 2ms/step - loss: 0.1206 - accuracy: 0.9670\n",
            "Test: accuracy = 0.967033  ;  loss = 0.120574\n"
          ]
        }
      ],
      "source": [
        "loss, accuracy = model.evaluate(x_test, y_test, verbose=1)\n",
        "#loss_v, accuracy_v = model.evaluate(x_validate, y_validate, verbose=1)\n",
        "#print(\"Validation: accuracy = %f  ;  loss_v = %f\" % (accuracy_v, loss_v))\n",
        "print(\"Test: accuracy = %f  ;  loss = %f\" % (accuracy, loss))"
      ]
    },
    {
      "cell_type": "code",
      "source": [
        "# calculate predictions\n",
        "predictions = model.predict(x_train)\n",
        "print(predictions.shape)\n",
        "# round predictions\n",
        "rounded = [round(x[0]) for x in predictions]\n",
        "print(rounded)"
      ],
      "metadata": {
        "colab": {
          "base_uri": "https://localhost:8080/"
        },
        "id": "5BeNn-703teh",
        "outputId": "df0421cc-ef3a-4c4a-918a-5d4fe8df9e65"
      },
      "id": "5BeNn-703teh",
      "execution_count": 22,
      "outputs": [
        {
          "output_type": "stream",
          "name": "stdout",
          "text": [
            "26/26 [==============================] - 0s 1ms/step\n",
            "(819, 1)\n",
            "[1, 1, 1, 1, 1, 1, 1, 1, 1, 1, 1, 1, 0, 1, 1, 0, 1, 1, 1, 1, 0, 0, 0, 1, 1, 0, 1, 0, 1, 1, 1, 1, 1, 1, 1, 1, 1, 0, 0, 1, 1, 1, 1, 1, 1, 1, 1, 1, 1, 1, 0, 1, 1, 1, 1, 1, 0, 1, 0, 1, 1, 1, 0, 1, 1, 1, 1, 1, 1, 1, 0, 1, 1, 1, 0, 1, 1, 1, 0, 1, 1, 1, 1, 1, 1, 1, 1, 1, 1, 1, 1, 1, 0, 1, 0, 1, 0, 1, 0, 1, 1, 1, 1, 1, 1, 1, 1, 1, 1, 0, 1, 1, 1, 1, 1, 1, 1, 1, 1, 0, 1, 0, 1, 0, 1, 0, 1, 1, 0, 1, 1, 1, 0, 1, 1, 1, 0, 1, 1, 1, 1, 0, 1, 1, 1, 1, 1, 0, 0, 0, 1, 0, 1, 1, 1, 1, 1, 1, 1, 1, 1, 1, 1, 0, 1, 1, 1, 1, 1, 1, 0, 1, 1, 1, 0, 1, 0, 0, 1, 1, 0, 1, 1, 0, 1, 1, 1, 1, 1, 1, 1, 1, 1, 1, 0, 1, 0, 1, 1, 1, 0, 1, 1, 0, 0, 1, 0, 0, 1, 1, 1, 1, 0, 1, 1, 1, 1, 1, 1, 1, 1, 1, 1, 1, 1, 1, 1, 1, 1, 1, 1, 1, 1, 1, 1, 0, 1, 1, 1, 1, 1, 1, 1, 1, 1, 0, 1, 0, 1, 1, 1, 1, 1, 1, 1, 1, 1, 1, 1, 1, 1, 1, 1, 1, 1, 1, 1, 0, 1, 0, 1, 1, 1, 1, 1, 0, 1, 0, 0, 1, 0, 0, 0, 1, 1, 1, 1, 1, 1, 1, 1, 0, 1, 0, 0, 1, 0, 1, 1, 1, 1, 1, 1, 0, 1, 1, 0, 1, 1, 1, 0, 1, 1, 0, 1, 1, 1, 1, 1, 1, 0, 1, 0, 1, 1, 0, 1, 1, 1, 1, 1, 1, 1, 1, 1, 1, 0, 1, 1, 1, 1, 0, 1, 1, 1, 0, 1, 0, 1, 1, 1, 1, 1, 0, 1, 1, 1, 0, 1, 0, 1, 1, 1, 0, 0, 1, 1, 1, 1, 1, 1, 1, 1, 1, 1, 1, 0, 1, 1, 1, 1, 1, 1, 0, 1, 1, 1, 1, 1, 0, 1, 1, 1, 1, 1, 1, 1, 1, 1, 1, 1, 1, 1, 1, 0, 0, 1, 1, 1, 1, 1, 1, 1, 1, 1, 0, 1, 1, 1, 1, 1, 0, 1, 1, 1, 1, 1, 1, 1, 1, 0, 1, 0, 1, 1, 0, 1, 0, 0, 0, 0, 1, 0, 1, 0, 1, 1, 1, 0, 1, 0, 0, 1, 0, 1, 1, 1, 1, 1, 0, 1, 1, 1, 1, 1, 1, 1, 1, 0, 1, 1, 1, 0, 1, 1, 1, 1, 0, 0, 1, 1, 1, 1, 1, 1, 0, 1, 1, 1, 1, 1, 1, 0, 1, 1, 1, 1, 1, 0, 1, 0, 1, 1, 1, 1, 1, 1, 0, 1, 1, 1, 1, 1, 1, 1, 1, 1, 1, 1, 0, 1, 1, 1, 1, 0, 1, 0, 1, 1, 1, 1, 0, 1, 1, 1, 1, 1, 1, 1, 1, 1, 1, 0, 1, 0, 0, 1, 1, 1, 1, 1, 1, 1, 0, 0, 1, 1, 1, 1, 1, 1, 1, 1, 1, 1, 1, 0, 0, 1, 1, 1, 0, 1, 1, 0, 1, 0, 1, 1, 1, 1, 1, 1, 0, 1, 1, 1, 1, 1, 1, 1, 1, 1, 1, 1, 1, 1, 0, 1, 1, 0, 1, 1, 1, 0, 0, 1, 1, 1, 1, 1, 1, 0, 1, 1, 1, 1, 0, 1, 1, 1, 1, 1, 1, 1, 1, 1, 1, 1, 1, 0, 1, 0, 1, 1, 0, 1, 1, 0, 1, 1, 1, 1, 1, 1, 1, 1, 0, 1, 0, 0, 1, 1, 1, 1, 1, 1, 1, 1, 1, 1, 0, 1, 0, 0, 1, 1, 1, 1, 1, 1, 1, 1, 1, 0, 1, 0, 1, 1, 1, 1, 1, 1, 1, 1, 0, 0, 1, 0, 1, 1, 1, 1, 0, 1, 1, 1, 1, 1, 0, 1, 1, 1, 1, 0, 0, 0, 1, 1, 1, 1, 0, 0, 1, 1, 1, 1, 0, 0, 0, 1, 0, 1, 1, 0, 1, 0, 1, 1, 0, 1, 0, 1, 1, 1, 1, 0, 1, 1, 0, 1, 1, 1, 1, 1, 0, 1, 1, 0, 0, 1, 1, 1, 0, 1, 1, 1, 1, 0, 1, 1, 0, 1, 1, 1, 1, 1, 0, 1, 1, 0, 0, 1, 1, 1, 1, 1, 1, 1, 0, 1, 1, 1, 0, 1, 0, 0, 1, 1, 1, 1, 1, 1, 1, 1, 1, 1, 1, 0, 0, 0, 1, 1, 1, 1, 1, 0, 1, 1, 1, 1, 0, 1, 1, 1, 1, 1, 1, 1]\n"
          ]
        }
      ]
    },
    {
      "cell_type": "code",
      "source": [
        "from sklearn.linear_model import LogisticRegression\n",
        "l1=LogisticRegression()\n",
        "l1.fit(predictions, y_train)"
      ],
      "metadata": {
        "colab": {
          "base_uri": "https://localhost:8080/",
          "height": 75
        },
        "id": "oN9MWHJq32PJ",
        "outputId": "063f77c1-33af-47ac-98f6-8d48020528b6"
      },
      "id": "oN9MWHJq32PJ",
      "execution_count": 23,
      "outputs": [
        {
          "output_type": "execute_result",
          "data": {
            "text/plain": [
              "LogisticRegression()"
            ],
            "text/html": [
              "<style>#sk-container-id-1 {color: black;background-color: white;}#sk-container-id-1 pre{padding: 0;}#sk-container-id-1 div.sk-toggleable {background-color: white;}#sk-container-id-1 label.sk-toggleable__label {cursor: pointer;display: block;width: 100%;margin-bottom: 0;padding: 0.3em;box-sizing: border-box;text-align: center;}#sk-container-id-1 label.sk-toggleable__label-arrow:before {content: \"▸\";float: left;margin-right: 0.25em;color: #696969;}#sk-container-id-1 label.sk-toggleable__label-arrow:hover:before {color: black;}#sk-container-id-1 div.sk-estimator:hover label.sk-toggleable__label-arrow:before {color: black;}#sk-container-id-1 div.sk-toggleable__content {max-height: 0;max-width: 0;overflow: hidden;text-align: left;background-color: #f0f8ff;}#sk-container-id-1 div.sk-toggleable__content pre {margin: 0.2em;color: black;border-radius: 0.25em;background-color: #f0f8ff;}#sk-container-id-1 input.sk-toggleable__control:checked~div.sk-toggleable__content {max-height: 200px;max-width: 100%;overflow: auto;}#sk-container-id-1 input.sk-toggleable__control:checked~label.sk-toggleable__label-arrow:before {content: \"▾\";}#sk-container-id-1 div.sk-estimator input.sk-toggleable__control:checked~label.sk-toggleable__label {background-color: #d4ebff;}#sk-container-id-1 div.sk-label input.sk-toggleable__control:checked~label.sk-toggleable__label {background-color: #d4ebff;}#sk-container-id-1 input.sk-hidden--visually {border: 0;clip: rect(1px 1px 1px 1px);clip: rect(1px, 1px, 1px, 1px);height: 1px;margin: -1px;overflow: hidden;padding: 0;position: absolute;width: 1px;}#sk-container-id-1 div.sk-estimator {font-family: monospace;background-color: #f0f8ff;border: 1px dotted black;border-radius: 0.25em;box-sizing: border-box;margin-bottom: 0.5em;}#sk-container-id-1 div.sk-estimator:hover {background-color: #d4ebff;}#sk-container-id-1 div.sk-parallel-item::after {content: \"\";width: 100%;border-bottom: 1px solid gray;flex-grow: 1;}#sk-container-id-1 div.sk-label:hover label.sk-toggleable__label {background-color: #d4ebff;}#sk-container-id-1 div.sk-serial::before {content: \"\";position: absolute;border-left: 1px solid gray;box-sizing: border-box;top: 0;bottom: 0;left: 50%;z-index: 0;}#sk-container-id-1 div.sk-serial {display: flex;flex-direction: column;align-items: center;background-color: white;padding-right: 0.2em;padding-left: 0.2em;position: relative;}#sk-container-id-1 div.sk-item {position: relative;z-index: 1;}#sk-container-id-1 div.sk-parallel {display: flex;align-items: stretch;justify-content: center;background-color: white;position: relative;}#sk-container-id-1 div.sk-item::before, #sk-container-id-1 div.sk-parallel-item::before {content: \"\";position: absolute;border-left: 1px solid gray;box-sizing: border-box;top: 0;bottom: 0;left: 50%;z-index: -1;}#sk-container-id-1 div.sk-parallel-item {display: flex;flex-direction: column;z-index: 1;position: relative;background-color: white;}#sk-container-id-1 div.sk-parallel-item:first-child::after {align-self: flex-end;width: 50%;}#sk-container-id-1 div.sk-parallel-item:last-child::after {align-self: flex-start;width: 50%;}#sk-container-id-1 div.sk-parallel-item:only-child::after {width: 0;}#sk-container-id-1 div.sk-dashed-wrapped {border: 1px dashed gray;margin: 0 0.4em 0.5em 0.4em;box-sizing: border-box;padding-bottom: 0.4em;background-color: white;}#sk-container-id-1 div.sk-label label {font-family: monospace;font-weight: bold;display: inline-block;line-height: 1.2em;}#sk-container-id-1 div.sk-label-container {text-align: center;}#sk-container-id-1 div.sk-container {/* jupyter's `normalize.less` sets `[hidden] { display: none; }` but bootstrap.min.css set `[hidden] { display: none !important; }` so we also need the `!important` here to be able to override the default hidden behavior on the sphinx rendered scikit-learn.org. See: https://github.com/scikit-learn/scikit-learn/issues/21755 */display: inline-block !important;position: relative;}#sk-container-id-1 div.sk-text-repr-fallback {display: none;}</style><div id=\"sk-container-id-1\" class=\"sk-top-container\"><div class=\"sk-text-repr-fallback\"><pre>LogisticRegression()</pre><b>In a Jupyter environment, please rerun this cell to show the HTML representation or trust the notebook. <br />On GitHub, the HTML representation is unable to render, please try loading this page with nbviewer.org.</b></div><div class=\"sk-container\" hidden><div class=\"sk-item\"><div class=\"sk-estimator sk-toggleable\"><input class=\"sk-toggleable__control sk-hidden--visually\" id=\"sk-estimator-id-1\" type=\"checkbox\" checked><label for=\"sk-estimator-id-1\" class=\"sk-toggleable__label sk-toggleable__label-arrow\">LogisticRegression</label><div class=\"sk-toggleable__content\"><pre>LogisticRegression()</pre></div></div></div></div></div>"
            ]
          },
          "metadata": {},
          "execution_count": 23
        }
      ]
    },
    {
      "cell_type": "code",
      "source": [
        "X_test_feature = model.predict(x_test)"
      ],
      "metadata": {
        "colab": {
          "base_uri": "https://localhost:8080/"
        },
        "id": "XtrCFSWo34MA",
        "outputId": "847f7e65-8b0e-4507-a42a-957f7f5855a5"
      },
      "id": "XtrCFSWo34MA",
      "execution_count": 24,
      "outputs": [
        {
          "output_type": "stream",
          "name": "stdout",
          "text": [
            "9/9 [==============================] - 0s 2ms/step\n"
          ]
        }
      ]
    },
    {
      "cell_type": "code",
      "execution_count": 25,
      "id": "74520e79",
      "metadata": {
        "colab": {
          "base_uri": "https://localhost:8080/"
        },
        "id": "74520e79",
        "outputId": "d1bd6ee6-f563-4c56-8d30-4e119d0ea494"
      },
      "outputs": [
        {
          "output_type": "stream",
          "name": "stdout",
          "text": [
            "0.9633699633699634\n",
            "              precision    recall  f1-score   support\n",
            "\n",
            "           0       0.94      0.91      0.92        66\n",
            "           1       0.97      0.98      0.98       207\n",
            "\n",
            "    accuracy                           0.96       273\n",
            "   macro avg       0.95      0.94      0.95       273\n",
            "weighted avg       0.96      0.96      0.96       273\n",
            "\n"
          ]
        }
      ],
      "source": [
        "prediction_lr=l1.predict(X_test_feature)\n",
        "print(accuracy_score(y_test, prediction_lr))\n",
        "print(classification_report(y_test,prediction_lr))"
      ]
    },
    {
      "cell_type": "code",
      "execution_count": 26,
      "id": "b2d82ad2",
      "metadata": {
        "colab": {
          "base_uri": "https://localhost:8080/"
        },
        "id": "b2d82ad2",
        "outputId": "7d10316c-f999-4a9e-a4d9-637c1d6c8b4c"
      },
      "outputs": [
        {
          "output_type": "stream",
          "name": "stdout",
          "text": [
            "0.9448836187966623\n"
          ]
        }
      ],
      "source": [
        "# auc scores\n",
        "auc_score1 = roc_auc_score(y_test, prediction_lr)\n",
        "print(auc_score1)"
      ]
    },
    {
      "cell_type": "code",
      "execution_count": 27,
      "id": "405ae5da",
      "metadata": {
        "id": "405ae5da"
      },
      "outputs": [],
      "source": [
        "fpr1, tpr1, thresh1 = roc_curve(y_test, prediction_lr, pos_label=1)\n",
        "\n",
        "# roc curve for tpr = fpr\n",
        "random_probs = [0 for i in range(len(y_test))]\n",
        "p_fpr, p_tpr, _ = roc_curve(y_test, random_probs, pos_label=1)"
      ]
    },
    {
      "cell_type": "code",
      "execution_count": 28,
      "id": "6e0b92a0",
      "metadata": {
        "colab": {
          "base_uri": "https://localhost:8080/",
          "height": 579
        },
        "id": "6e0b92a0",
        "outputId": "78c56b70-48d8-4baa-f1ce-2170b7d63911"
      },
      "outputs": [
        {
          "output_type": "stream",
          "name": "stderr",
          "text": [
            "<ipython-input-28-89f9ed397d0c>:2: MatplotlibDeprecationWarning: The seaborn styles shipped by Matplotlib are deprecated since 3.6, as they no longer correspond to the styles shipped by seaborn. However, they will remain available as 'seaborn-v0_8-<style>'. Alternatively, directly use the seaborn API instead.\n",
            "  plt.style.use('seaborn')\n"
          ]
        },
        {
          "output_type": "display_data",
          "data": {
            "text/plain": [
              "<Figure size 800x550 with 1 Axes>"
            ],
            "image/png": "[encoded data removed]"
          },
          "metadata": {}
        }
      ],
      "source": [
        "import matplotlib.pyplot as plt\n",
        "plt.style.use('seaborn')\n",
        "\n",
        "# plot roc curves\n",
        "plt.plot(fpr1, tpr1, linestyle='--',color='orange', label='Logistic Regression')\n",
        "plt.plot(p_fpr, p_tpr, linestyle='--', color='blue')\n",
        "# title\n",
        "plt.title('ROC curve')\n",
        "# x label\n",
        "plt.xlabel('False Positive Rate')\n",
        "# y label\n",
        "plt.ylabel('True Positive rate')\n",
        "\n",
        "plt.legend(loc='best')\n",
        "plt.savefig('ROC_LR',dpi=300)\n",
        "plt.show();"
      ]
    },
    {
      "cell_type": "code",
      "execution_count": 28,
      "id": "7d3ab68f",
      "metadata": {
        "id": "7d3ab68f"
      },
      "outputs": [],
      "source": []
    }
  ],
  "metadata": {
    "kernelspec": {
      "display_name": "Python 3 (ipykernel)",
      "language": "python",
      "name": "python3"
    },
    "language_info": {
      "codemirror_mode": {
        "name": "ipython",
        "version": 3
      },
      "file_extension": ".py",
      "mimetype": "text/x-python",
      "name": "python",
      "nbconvert_exporter": "python",
      "pygments_lexer": "ipython3",
      "version": "3.9.13"
    },
    "colab": {
      "provenance": []
    }
  },
  "nbformat": 4,
  "nbformat_minor": 5
}