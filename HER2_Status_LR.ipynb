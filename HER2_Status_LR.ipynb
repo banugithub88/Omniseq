{
  "cells": [
    {
      "cell_type": "code",
      "execution_count": null,
      "id": "30e4c817",
      "metadata": {
        "id": "30e4c817"
      },
      "outputs": [],
      "source": [
        "import pandas as pd\n",
        "import numpy as np\n",
        "from sklearn.preprocessing import LabelEncoder\n",
        "from tensorflow.keras.models import Sequential\n",
        "from tensorflow.keras.layers import Dense, Activation, Dropout\n",
        "from sklearn.ensemble import RandomForestClassifier\n",
        "from sklearn.metrics import accuracy_score,classification_report, confusion_matrix,roc_auc_score,roc_curve\n",
        "import matplotlib.pyplot as plt\n",
        "import seaborn as sns\n",
        "from sklearn import metrics\n",
        "from sklearn.preprocessing import StandardScaler"
      ]
    },
    {
      "cell_type": "code",
      "execution_count": null,
      "id": "96978388",
      "metadata": {
        "id": "96978388"
      },
      "outputs": [],
      "source": [
        "data=pd.read_excel('/content/sample_data/BCDexcel.xlsx')"
      ]
    },
    {
      "cell_type": "code",
      "execution_count": null,
      "id": "0d43702a",
      "metadata": {
        "id": "0d43702a"
      },
      "outputs": [],
      "source": [
        "data.drop(['Patient ID','Sample ID','Integrative Cluster'],axis=1,inplace=True)"
      ]
    },
    {
      "cell_type": "code",
      "execution_count": null,
      "id": "c4fb0145",
      "metadata": {
        "id": "c4fb0145"
      },
      "outputs": [],
      "source": [
        "data.dropna(inplace = True)"
      ]
    },
    {
      "cell_type": "code",
      "execution_count": null,
      "id": "2455e027",
      "metadata": {
        "colab": {
          "base_uri": "https://localhost:8080/"
        },
        "id": "2455e027",
        "outputId": "38321383-0664-4ee3-abc2-f190d6593d0a"
      },
      "outputs": [
        {
          "output_type": "execute_result",
          "data": {
            "text/plain": [
              "Study ID                          0\n",
              "Age at Diagnosis                  0\n",
              "Type of Breast Surgery            0\n",
              "Cancer Type                       0\n",
              "Cancer Type Detailed              0\n",
              "Cellularity                       0\n",
              "Chemotherapy                      0\n",
              "Pam50 + Claudin-low subtype       0\n",
              "Cohort                            0\n",
              "ER status measured by IHC         0\n",
              "ER Status                         0\n",
              "Neoplasm Histologic Grade         0\n",
              "HER2 status measured by SNP6      0\n",
              "HER2 Status                       0\n",
              "Tumor Other Histologic Subtype    0\n",
              "Hormone Therapy                   0\n",
              "Inferred Menopausal State         0\n",
              "Primary Tumor Laterality          0\n",
              "Lymph nodes examined positive     0\n",
              "Mutation Count                    0\n",
              "Nottingham prognostic index       0\n",
              "Oncotree Code                     0\n",
              "Overall Survival (Months)         0\n",
              "Overall Survival Status           0\n",
              "PR Status                         0\n",
              "Radio Therapy                     0\n",
              "Relapse Free Status (Months)      0\n",
              "Relapse Free Status               0\n",
              "Number of Samples Per Patient     0\n",
              "Sample Type                       0\n",
              "Sex                               0\n",
              "3-Gene classifier subtype         0\n",
              "TMB (nonsynonymous)               0\n",
              "Tumor Size                        0\n",
              "Tumor Stage                       0\n",
              "Patient's Vital Status            0\n",
              "dtype: int64"
            ]
          },
          "metadata": {},
          "execution_count": 5
        }
      ],
      "source": [
        "data.isnull().sum()"
      ]
    },
    {
      "cell_type": "code",
      "execution_count": null,
      "id": "412780dc",
      "metadata": {
        "colab": {
          "base_uri": "https://localhost:8080/"
        },
        "id": "412780dc",
        "outputId": "2649a1f2-b82a-4e10-fbda-761a00c2e0a7"
      },
      "outputs": [
        {
          "output_type": "execute_result",
          "data": {
            "text/plain": [
              "HER2 Status\n",
              "Negative    958\n",
              "Positive    134\n",
              "Name: count, dtype: int64"
            ]
          },
          "metadata": {},
          "execution_count": 6
        }
      ],
      "source": [
        "data['HER2 Status'].value_counts()"
      ]
    },
    {
      "cell_type": "code",
      "execution_count": null,
      "id": "f70ad0fa",
      "metadata": {
        "colab": {
          "base_uri": "https://localhost:8080/"
        },
        "id": "f70ad0fa",
        "outputId": "b8d7c332-80cd-42db-c768-30ee4a6555f0"
      },
      "outputs": [
        {
          "output_type": "execute_result",
          "data": {
            "text/plain": [
              "0"
            ]
          },
          "metadata": {},
          "execution_count": 7
        }
      ],
      "source": [
        "data.duplicated().sum()"
      ]
    },
    {
      "cell_type": "code",
      "execution_count": null,
      "id": "18d56800",
      "metadata": {
        "id": "18d56800"
      },
      "outputs": [],
      "source": [
        "x=data.drop('HER2 Status',axis=1)\n",
        "y=data['HER2 Status']"
      ]
    },
    {
      "cell_type": "code",
      "execution_count": null,
      "id": "8b0bbca0",
      "metadata": {
        "colab": {
          "base_uri": "https://localhost:8080/"
        },
        "id": "8b0bbca0",
        "outputId": "61628964-7fc0-4e1d-e463-f5ce91fa0b9c"
      },
      "outputs": [
        {
          "output_type": "execute_result",
          "data": {
            "text/plain": [
              "HER2 Status\n",
              "Negative    958\n",
              "Positive    134\n",
              "Name: count, dtype: int64"
            ]
          },
          "metadata": {},
          "execution_count": 9
        }
      ],
      "source": [
        "y.value_counts()"
      ]
    },
    {
      "cell_type": "code",
      "execution_count": null,
      "id": "cdca0cd5",
      "metadata": {
        "id": "cdca0cd5"
      },
      "outputs": [],
      "source": [
        "x=x.apply(LabelEncoder().fit_transform)\n",
        "y=LabelEncoder().fit_transform(y)"
      ]
    },
    {
      "cell_type": "code",
      "execution_count": null,
      "id": "6ec77f7f",
      "metadata": {
        "colab": {
          "base_uri": "https://localhost:8080/"
        },
        "id": "6ec77f7f",
        "outputId": "5f6c36ac-083c-4eab-bfc6-f7b65bd29ae8"
      },
      "outputs": [
        {
          "output_type": "execute_result",
          "data": {
            "text/plain": [
              "array([0, 0, 0, ..., 0, 0, 0])"
            ]
          },
          "metadata": {},
          "execution_count": 11
        }
      ],
      "source": [
        "y"
      ]
    },
    {
      "cell_type": "code",
      "execution_count": null,
      "id": "3d28d225",
      "metadata": {
        "colab": {
          "base_uri": "https://localhost:8080/"
        },
        "id": "3d28d225",
        "outputId": "c9122023-0eca-4097-af79-998bc86f09b1"
      },
      "outputs": [
        {
          "output_type": "execute_result",
          "data": {
            "text/plain": [
              "('Study ID', 'Age at Diagnosis', 'Overall Survival (Months)')"
            ]
          },
          "metadata": {},
          "execution_count": 12
        }
      ],
      "source": [
        "from mlxtend.feature_selection import SequentialFeatureSelector as SFS\n",
        "from sklearn.tree import DecisionTreeClassifier\n",
        "# Sequential Forward Floating Selection(sffs)\n",
        "sffs = SFS(DecisionTreeClassifier(),\n",
        "          k_features=(3,11),\n",
        "          forward=True,\n",
        "          floating=True,\n",
        "          cv=0)\n",
        "sffs.fit(x, y)\n",
        "sffs.k_feature_names_"
      ]
    },
    {
      "cell_type": "code",
      "execution_count": null,
      "id": "126f3a83",
      "metadata": {
        "id": "126f3a83"
      },
      "outputs": [],
      "source": [
        "from sklearn.preprocessing import StandardScaler\n",
        "x=StandardScaler().fit_transform(x)"
      ]
    },
    {
      "cell_type": "code",
      "execution_count": null,
      "id": "73ad218f",
      "metadata": {
        "id": "73ad218f"
      },
      "outputs": [],
      "source": [
        "from sklearn.model_selection import train_test_split\n",
        "x_train, x_test, y_train, y_test= train_test_split(x, y, test_size= 0.25, random_state=42)"
      ]
    },
    {
      "cell_type": "code",
      "execution_count": null,
      "id": "fc029dc3",
      "metadata": {
        "colab": {
          "base_uri": "https://localhost:8080/"
        },
        "id": "fc029dc3",
        "outputId": "28ae73c0-e14b-4735-9d18-67146b48097a"
      },
      "outputs": [
        {
          "output_type": "stream",
          "name": "stdout",
          "text": [
            "Number of components selected: 11\n"
          ]
        }
      ],
      "source": [
        "from sklearn.decomposition import TruncatedSVD\n",
        "import numpy as np\n",
        "\n",
        "# Initialize SVD and fit on the training data\n",
        "svd = TruncatedSVD(n_components=x_train.shape[1] - 1)  # Use one less component than the feature count\n",
        "X_train_svd = svd.fit_transform(x_train)\n",
        "\n",
        "# Calculate explained variance ratio for each component\n",
        "explained_variance_ratio = svd.explained_variance_ratio_\n",
        "\n",
        "# Calculate the cumulative explained variance\n",
        "cumulative_explained_variance = np.cumsum(explained_variance_ratio)\n",
        "\n",
        "# Find the number of components that explain at least 75% of the variance\n",
        "n_components = np.argmax(cumulative_explained_variance >= 0.75) + 1\n",
        "\n",
        "# Transform both the training and test data to the selected number of components\n",
        "x_train = svd.transform(x_train)[:, :n_components]\n",
        "x_test = svd.transform(x_test)[:, :n_components]\n",
        "\n",
        "# Print the number of components selected\n",
        "print(f\"Number of components selected: {n_components}\")"
      ]
    },
    {
      "cell_type": "code",
      "execution_count": null,
      "id": "2e100f3c",
      "metadata": {
        "id": "2e100f3c"
      },
      "outputs": [],
      "source": [
        "model = Sequential()\n",
        "model.add(Dense(units = 30,activation='relu'))\n",
        "model.add(Dense(units = 30,activation='relu'))\n",
        "model.add(Dense(units = 1,activation='sigmoid'))\n",
        "model.compile(optimizer='adam',loss = 'binary_crossentropy',metrics=['accuracy'])"
      ]
    },
    {
      "cell_type": "code",
      "execution_count": null,
      "id": "ab8201f1",
      "metadata": {
        "colab": {
          "base_uri": "https://localhost:8080/"
        },
        "id": "ab8201f1",
        "outputId": "87f0b812-fbcb-4f77-a2ff-cc5b822cbaad"
      },
      "outputs": [
        {
          "output_type": "stream",
          "name": "stdout",
          "text": [
            "Epoch 1/60\n",
            "26/26 [==============================] - 1s 2ms/step - loss: 0.5144 - accuracy: 0.8120\n",
            "Epoch 2/60\n",
            "26/26 [==============================] - 0s 2ms/step - loss: 0.3747 - accuracy: 0.8864\n",
            "Epoch 3/60\n",
            "26/26 [==============================] - 0s 2ms/step - loss: 0.3039 - accuracy: 0.8913\n",
            "Epoch 4/60\n",
            "26/26 [==============================] - 0s 2ms/step - loss: 0.2484 - accuracy: 0.9060\n",
            "Epoch 5/60\n",
            "26/26 [==============================] - 0s 2ms/step - loss: 0.2087 - accuracy: 0.9206\n",
            "Epoch 6/60\n",
            "26/26 [==============================] - 0s 2ms/step - loss: 0.1787 - accuracy: 0.9353\n",
            "Epoch 7/60\n",
            "26/26 [==============================] - 0s 2ms/step - loss: 0.1555 - accuracy: 0.9438\n",
            "Epoch 8/60\n",
            "26/26 [==============================] - 0s 2ms/step - loss: 0.1403 - accuracy: 0.9402\n",
            "Epoch 9/60\n",
            "26/26 [==============================] - 0s 2ms/step - loss: 0.1285 - accuracy: 0.9451\n",
            "Epoch 10/60\n",
            "26/26 [==============================] - 0s 2ms/step - loss: 0.1204 - accuracy: 0.9499\n",
            "Epoch 11/60\n",
            "26/26 [==============================] - 0s 2ms/step - loss: 0.1156 - accuracy: 0.9499\n",
            "Epoch 12/60\n",
            "26/26 [==============================] - 0s 2ms/step - loss: 0.1095 - accuracy: 0.9524\n",
            "Epoch 13/60\n",
            "26/26 [==============================] - 0s 2ms/step - loss: 0.1050 - accuracy: 0.9524\n",
            "Epoch 14/60\n",
            "26/26 [==============================] - 0s 2ms/step - loss: 0.1017 - accuracy: 0.9524\n",
            "Epoch 15/60\n",
            "26/26 [==============================] - 0s 2ms/step - loss: 0.0985 - accuracy: 0.9487\n",
            "Epoch 16/60\n",
            "26/26 [==============================] - 0s 2ms/step - loss: 0.0969 - accuracy: 0.9621\n",
            "Epoch 17/60\n",
            "26/26 [==============================] - 0s 2ms/step - loss: 0.0931 - accuracy: 0.9560\n",
            "Epoch 18/60\n",
            "26/26 [==============================] - 0s 2ms/step - loss: 0.0911 - accuracy: 0.9548\n",
            "Epoch 19/60\n",
            "26/26 [==============================] - 0s 2ms/step - loss: 0.0892 - accuracy: 0.9609\n",
            "Epoch 20/60\n",
            "26/26 [==============================] - 0s 2ms/step - loss: 0.0872 - accuracy: 0.9646\n",
            "Epoch 21/60\n",
            "26/26 [==============================] - 0s 2ms/step - loss: 0.0865 - accuracy: 0.9560\n",
            "Epoch 22/60\n",
            "26/26 [==============================] - 0s 2ms/step - loss: 0.0832 - accuracy: 0.9597\n",
            "Epoch 23/60\n",
            "26/26 [==============================] - 0s 2ms/step - loss: 0.0811 - accuracy: 0.9646\n",
            "Epoch 24/60\n",
            "26/26 [==============================] - 0s 2ms/step - loss: 0.0802 - accuracy: 0.9621\n",
            "Epoch 25/60\n",
            "26/26 [==============================] - 0s 2ms/step - loss: 0.0783 - accuracy: 0.9646\n",
            "Epoch 26/60\n",
            "26/26 [==============================] - 0s 2ms/step - loss: 0.0768 - accuracy: 0.9646\n",
            "Epoch 27/60\n",
            "26/26 [==============================] - 0s 3ms/step - loss: 0.0752 - accuracy: 0.9670\n",
            "Epoch 28/60\n",
            "26/26 [==============================] - 0s 3ms/step - loss: 0.0749 - accuracy: 0.9658\n",
            "Epoch 29/60\n",
            "26/26 [==============================] - 0s 3ms/step - loss: 0.0736 - accuracy: 0.9695\n",
            "Epoch 30/60\n",
            "26/26 [==============================] - 0s 3ms/step - loss: 0.0723 - accuracy: 0.9658\n",
            "Epoch 31/60\n",
            "26/26 [==============================] - 0s 3ms/step - loss: 0.0711 - accuracy: 0.9683\n",
            "Epoch 32/60\n",
            "26/26 [==============================] - 0s 3ms/step - loss: 0.0696 - accuracy: 0.9683\n",
            "Epoch 33/60\n",
            "26/26 [==============================] - 0s 3ms/step - loss: 0.0681 - accuracy: 0.9695\n",
            "Epoch 34/60\n",
            "26/26 [==============================] - 0s 3ms/step - loss: 0.0681 - accuracy: 0.9695\n",
            "Epoch 35/60\n",
            "26/26 [==============================] - 0s 3ms/step - loss: 0.0661 - accuracy: 0.9695\n",
            "Epoch 36/60\n",
            "26/26 [==============================] - 0s 3ms/step - loss: 0.0645 - accuracy: 0.9731\n",
            "Epoch 37/60\n",
            "26/26 [==============================] - 0s 3ms/step - loss: 0.0637 - accuracy: 0.9731\n",
            "Epoch 38/60\n",
            "26/26 [==============================] - 0s 3ms/step - loss: 0.0629 - accuracy: 0.9707\n",
            "Epoch 39/60\n",
            "26/26 [==============================] - 0s 3ms/step - loss: 0.0622 - accuracy: 0.9731\n",
            "Epoch 40/60\n",
            "26/26 [==============================] - 0s 3ms/step - loss: 0.0610 - accuracy: 0.9744\n",
            "Epoch 41/60\n",
            "26/26 [==============================] - 0s 3ms/step - loss: 0.0596 - accuracy: 0.9744\n",
            "Epoch 42/60\n",
            "26/26 [==============================] - 0s 3ms/step - loss: 0.0582 - accuracy: 0.9744\n",
            "Epoch 43/60\n",
            "26/26 [==============================] - 0s 3ms/step - loss: 0.0572 - accuracy: 0.9744\n",
            "Epoch 44/60\n",
            "26/26 [==============================] - 0s 3ms/step - loss: 0.0566 - accuracy: 0.9756\n",
            "Epoch 45/60\n",
            "26/26 [==============================] - 0s 3ms/step - loss: 0.0566 - accuracy: 0.9768\n",
            "Epoch 46/60\n",
            "26/26 [==============================] - 0s 3ms/step - loss: 0.0545 - accuracy: 0.9744\n",
            "Epoch 47/60\n",
            "26/26 [==============================] - 0s 4ms/step - loss: 0.0537 - accuracy: 0.9756\n",
            "Epoch 48/60\n",
            "26/26 [==============================] - 0s 3ms/step - loss: 0.0517 - accuracy: 0.9768\n",
            "Epoch 49/60\n",
            "26/26 [==============================] - 0s 3ms/step - loss: 0.0508 - accuracy: 0.9756\n",
            "Epoch 50/60\n",
            "26/26 [==============================] - 0s 3ms/step - loss: 0.0507 - accuracy: 0.9780\n",
            "Epoch 51/60\n",
            "26/26 [==============================] - 0s 3ms/step - loss: 0.0500 - accuracy: 0.9768\n",
            "Epoch 52/60\n",
            "26/26 [==============================] - 0s 3ms/step - loss: 0.0487 - accuracy: 0.9768\n",
            "Epoch 53/60\n",
            "26/26 [==============================] - 0s 3ms/step - loss: 0.0472 - accuracy: 0.9780\n",
            "Epoch 54/60\n",
            "26/26 [==============================] - 0s 3ms/step - loss: 0.0464 - accuracy: 0.9817\n",
            "Epoch 55/60\n",
            "26/26 [==============================] - 0s 3ms/step - loss: 0.0454 - accuracy: 0.9780\n",
            "Epoch 56/60\n",
            "26/26 [==============================] - 0s 3ms/step - loss: 0.0438 - accuracy: 0.9817\n",
            "Epoch 57/60\n",
            "26/26 [==============================] - 0s 3ms/step - loss: 0.0431 - accuracy: 0.9805\n",
            "Epoch 58/60\n",
            "26/26 [==============================] - 0s 4ms/step - loss: 0.0423 - accuracy: 0.9829\n",
            "Epoch 59/60\n",
            "26/26 [==============================] - 0s 3ms/step - loss: 0.0427 - accuracy: 0.9817\n",
            "Epoch 60/60\n",
            "26/26 [==============================] - 0s 2ms/step - loss: 0.0416 - accuracy: 0.9853\n"
          ]
        },
        {
          "output_type": "execute_result",
          "data": {
            "text/plain": [
              "<keras.src.callbacks.History at 0x7ed687527490>"
            ]
          },
          "metadata": {},
          "execution_count": 17
        }
      ],
      "source": [
        "model.fit(x = x_train,\n",
        "          y = y_train,\n",
        "          epochs = 60,\n",
        "         #validation_data=(x_test, y_test),\n",
        "         # batch_size = 1,\n",
        "         verbose=1)"
      ]
    },
    {
      "cell_type": "code",
      "execution_count": null,
      "id": "1861e67e",
      "metadata": {
        "colab": {
          "base_uri": "https://localhost:8080/"
        },
        "id": "1861e67e",
        "outputId": "49072af1-c402-4722-acff-91ec37545974"
      },
      "outputs": [
        {
          "output_type": "stream",
          "name": "stdout",
          "text": [
            "9/9 [==============================] - 0s 2ms/step - loss: 0.2164 - accuracy: 0.9267\n",
            "Test: accuracy = 0.926740  ;  loss = 0.216361\n"
          ]
        }
      ],
      "source": [
        "loss, accuracy = model.evaluate(x_test, y_test, verbose=1)\n",
        "#loss_v, accuracy_v = model.evaluate(x_validate, y_validate, verbose=1)\n",
        "#print(\"Validation: accuracy = %f  ;  loss_v = %f\" % (accuracy_v, loss_v))\n",
        "print(\"Test: accuracy = %f  ;  loss = %f\" % (accuracy, loss))"
      ]
    },
    {
      "cell_type": "markdown",
      "source": [
        "Calculating **predictions**"
      ],
      "metadata": {
        "id": "GcQZCKT1XVhO"
      },
      "id": "GcQZCKT1XVhO"
    },
    {
      "cell_type": "code",
      "source": [
        "# calculate predictions\n",
        "predictions = model.predict(x_train)\n",
        "print(predictions.shape)\n",
        "# round predictions\n",
        "rounded = [round(x[0]) for x in predictions]\n",
        "print(rounded)"
      ],
      "metadata": {
        "colab": {
          "base_uri": "https://localhost:8080/"
        },
        "id": "V9-8L_-XXas1",
        "outputId": "7b9fc12d-70fb-4099-ef82-6a05c1cbb10b"
      },
      "id": "V9-8L_-XXas1",
      "execution_count": null,
      "outputs": [
        {
          "output_type": "stream",
          "name": "stdout",
          "text": [
            "26/26 [==============================] - 0s 1ms/step\n",
            "(819, 1)\n",
            "[0, 0, 0, 0, 0, 0, 0, 0, 0, 0, 0, 0, 0, 0, 0, 0, 0, 1, 0, 0, 0, 1, 0, 0, 0, 0, 0, 0, 0, 0, 0, 0, 0, 0, 0, 0, 0, 0, 0, 0, 0, 0, 0, 0, 0, 0, 0, 0, 0, 0, 1, 0, 0, 0, 0, 0, 1, 0, 0, 0, 0, 0, 0, 0, 0, 0, 0, 0, 0, 0, 1, 1, 1, 0, 0, 0, 0, 1, 0, 0, 0, 0, 0, 0, 0, 0, 0, 1, 0, 0, 0, 0, 0, 0, 1, 0, 0, 0, 0, 0, 0, 1, 0, 0, 0, 1, 0, 1, 0, 1, 0, 0, 0, 0, 0, 0, 0, 0, 0, 0, 0, 1, 1, 0, 0, 0, 0, 0, 0, 0, 0, 0, 1, 0, 0, 0, 0, 0, 0, 0, 0, 0, 0, 0, 1, 0, 0, 1, 0, 0, 0, 0, 1, 0, 0, 0, 0, 0, 0, 0, 0, 0, 0, 0, 0, 0, 0, 0, 0, 0, 1, 1, 0, 0, 0, 0, 0, 0, 0, 0, 0, 0, 0, 0, 0, 0, 0, 0, 0, 0, 0, 0, 0, 0, 0, 0, 0, 0, 1, 0, 0, 0, 0, 0, 1, 1, 0, 0, 0, 0, 0, 1, 1, 0, 0, 0, 0, 0, 0, 0, 0, 0, 0, 1, 0, 0, 0, 0, 0, 0, 0, 0, 0, 0, 0, 0, 0, 0, 0, 0, 1, 0, 0, 0, 0, 0, 0, 0, 0, 0, 0, 0, 0, 0, 0, 0, 0, 0, 0, 0, 0, 0, 1, 0, 0, 0, 0, 0, 0, 0, 0, 0, 0, 0, 1, 0, 0, 0, 1, 0, 0, 0, 0, 0, 0, 0, 0, 0, 0, 0, 0, 0, 1, 1, 0, 0, 0, 0, 0, 0, 0, 0, 0, 0, 0, 0, 1, 0, 0, 0, 0, 0, 0, 0, 0, 0, 0, 0, 0, 0, 1, 0, 0, 0, 0, 0, 0, 0, 0, 0, 0, 1, 0, 0, 0, 0, 0, 0, 0, 1, 0, 0, 0, 0, 0, 0, 0, 0, 0, 0, 0, 0, 0, 0, 0, 0, 0, 0, 0, 0, 0, 0, 0, 1, 0, 0, 0, 0, 0, 0, 0, 0, 0, 0, 0, 0, 0, 0, 0, 1, 0, 0, 0, 0, 0, 0, 0, 0, 0, 1, 0, 0, 0, 0, 0, 0, 0, 0, 0, 0, 0, 0, 0, 1, 0, 0, 0, 0, 0, 1, 0, 1, 0, 0, 0, 1, 0, 0, 0, 0, 0, 0, 0, 0, 0, 0, 0, 0, 0, 0, 0, 0, 1, 0, 0, 0, 0, 0, 0, 0, 0, 0, 1, 0, 0, 0, 0, 0, 1, 0, 0, 1, 0, 0, 0, 1, 0, 0, 0, 0, 0, 0, 1, 0, 0, 0, 0, 0, 0, 0, 0, 0, 0, 0, 0, 0, 0, 0, 1, 0, 0, 1, 0, 0, 0, 1, 1, 0, 0, 0, 0, 0, 0, 0, 0, 0, 0, 0, 1, 1, 1, 0, 0, 0, 0, 0, 0, 1, 0, 1, 0, 0, 0, 0, 0, 0, 0, 1, 0, 1, 0, 0, 0, 1, 0, 0, 1, 0, 0, 0, 0, 1, 0, 0, 0, 0, 0, 0, 0, 0, 0, 0, 0, 1, 0, 0, 0, 0, 0, 1, 0, 0, 0, 0, 0, 0, 0, 0, 0, 0, 0, 0, 0, 0, 0, 0, 0, 0, 0, 0, 0, 1, 1, 0, 0, 0, 0, 0, 0, 0, 0, 0, 0, 1, 0, 0, 0, 0, 0, 0, 0, 0, 0, 0, 0, 0, 0, 0, 0, 0, 0, 0, 0, 0, 0, 0, 0, 0, 0, 0, 0, 0, 1, 0, 0, 0, 0, 0, 0, 0, 0, 0, 0, 0, 0, 0, 0, 0, 0, 0, 0, 0, 0, 0, 0, 0, 0, 0, 1, 0, 0, 0, 0, 0, 0, 0, 1, 1, 0, 0, 0, 0, 0, 0, 0, 0, 0, 0, 0, 0, 0, 0, 0, 0, 1, 0, 0, 0, 0, 0, 0, 0, 0, 0, 0, 0, 1, 0, 0, 0, 0, 0, 0, 0, 0, 0, 0, 0, 1, 1, 0, 0, 0, 0, 0, 0, 0, 0, 0, 0, 0, 0, 0, 0, 0, 1, 0, 0, 0, 0, 0, 0, 1, 0, 0, 0, 0, 0, 1, 0, 0, 1, 0, 0, 0, 0, 1, 0, 0, 0, 0, 0, 0, 1, 1, 0, 0, 0, 0, 0, 0, 0, 0, 0, 0, 0, 0, 0, 1, 1, 0, 0, 0, 0, 0, 0, 0, 1, 0, 0, 0, 1, 0, 0, 0, 0, 0, 0, 0, 0, 0, 1, 0, 0, 0, 0, 0, 0, 0, 1, 0, 0, 0, 1, 0, 0, 0, 0, 0, 0, 0, 0, 0, 0, 0, 1, 0, 0, 0, 0, 1, 0, 0, 0, 0, 0, 0, 0, 0, 1, 0, 0, 0, 0, 0, 0, 0, 0, 0]\n"
          ]
        }
      ]
    },
    {
      "cell_type": "code",
      "source": [
        "from sklearn.linear_model import LogisticRegression\n",
        "l1=LogisticRegression()\n",
        "l1.fit(predictions, y_train)"
      ],
      "metadata": {
        "colab": {
          "base_uri": "https://localhost:8080/",
          "height": 75
        },
        "id": "JSaCxAmLXesd",
        "outputId": "6ad9b5f6-4f72-4350-de47-744d70710805"
      },
      "id": "JSaCxAmLXesd",
      "execution_count": null,
      "outputs": [
        {
          "output_type": "execute_result",
          "data": {
            "text/plain": [
              "LogisticRegression()"
            ],
            "text/html": [
              "<style>#sk-container-id-1 {color: black;background-color: white;}#sk-container-id-1 pre{padding: 0;}#sk-container-id-1 div.sk-toggleable {background-color: white;}#sk-container-id-1 label.sk-toggleable__label {cursor: pointer;display: block;width: 100%;margin-bottom: 0;padding: 0.3em;box-sizing: border-box;text-align: center;}#sk-container-id-1 label.sk-toggleable__label-arrow:before {content: \"▸\";float: left;margin-right: 0.25em;color: #696969;}#sk-container-id-1 label.sk-toggleable__label-arrow:hover:before {color: black;}#sk-container-id-1 div.sk-estimator:hover label.sk-toggleable__label-arrow:before {color: black;}#sk-container-id-1 div.sk-toggleable__content {max-height: 0;max-width: 0;overflow: hidden;text-align: left;background-color: #f0f8ff;}#sk-container-id-1 div.sk-toggleable__content pre {margin: 0.2em;color: black;border-radius: 0.25em;background-color: #f0f8ff;}#sk-container-id-1 input.sk-toggleable__control:checked~div.sk-toggleable__content {max-height: 200px;max-width: 100%;overflow: auto;}#sk-container-id-1 input.sk-toggleable__control:checked~label.sk-toggleable__label-arrow:before {content: \"▾\";}#sk-container-id-1 div.sk-estimator input.sk-toggleable__control:checked~label.sk-toggleable__label {background-color: #d4ebff;}#sk-container-id-1 div.sk-label input.sk-toggleable__control:checked~label.sk-toggleable__label {background-color: #d4ebff;}#sk-container-id-1 input.sk-hidden--visually {border: 0;clip: rect(1px 1px 1px 1px);clip: rect(1px, 1px, 1px, 1px);height: 1px;margin: -1px;overflow: hidden;padding: 0;position: absolute;width: 1px;}#sk-container-id-1 div.sk-estimator {font-family: monospace;background-color: #f0f8ff;border: 1px dotted black;border-radius: 0.25em;box-sizing: border-box;margin-bottom: 0.5em;}#sk-container-id-1 div.sk-estimator:hover {background-color: #d4ebff;}#sk-container-id-1 div.sk-parallel-item::after {content: \"\";width: 100%;border-bottom: 1px solid gray;flex-grow: 1;}#sk-container-id-1 div.sk-label:hover label.sk-toggleable__label {background-color: #d4ebff;}#sk-container-id-1 div.sk-serial::before {content: \"\";position: absolute;border-left: 1px solid gray;box-sizing: border-box;top: 0;bottom: 0;left: 50%;z-index: 0;}#sk-container-id-1 div.sk-serial {display: flex;flex-direction: column;align-items: center;background-color: white;padding-right: 0.2em;padding-left: 0.2em;position: relative;}#sk-container-id-1 div.sk-item {position: relative;z-index: 1;}#sk-container-id-1 div.sk-parallel {display: flex;align-items: stretch;justify-content: center;background-color: white;position: relative;}#sk-container-id-1 div.sk-item::before, #sk-container-id-1 div.sk-parallel-item::before {content: \"\";position: absolute;border-left: 1px solid gray;box-sizing: border-box;top: 0;bottom: 0;left: 50%;z-index: -1;}#sk-container-id-1 div.sk-parallel-item {display: flex;flex-direction: column;z-index: 1;position: relative;background-color: white;}#sk-container-id-1 div.sk-parallel-item:first-child::after {align-self: flex-end;width: 50%;}#sk-container-id-1 div.sk-parallel-item:last-child::after {align-self: flex-start;width: 50%;}#sk-container-id-1 div.sk-parallel-item:only-child::after {width: 0;}#sk-container-id-1 div.sk-dashed-wrapped {border: 1px dashed gray;margin: 0 0.4em 0.5em 0.4em;box-sizing: border-box;padding-bottom: 0.4em;background-color: white;}#sk-container-id-1 div.sk-label label {font-family: monospace;font-weight: bold;display: inline-block;line-height: 1.2em;}#sk-container-id-1 div.sk-label-container {text-align: center;}#sk-container-id-1 div.sk-container {/* jupyter's `normalize.less` sets `[hidden] { display: none; }` but bootstrap.min.css set `[hidden] { display: none !important; }` so we also need the `!important` here to be able to override the default hidden behavior on the sphinx rendered scikit-learn.org. See: https://github.com/scikit-learn/scikit-learn/issues/21755 */display: inline-block !important;position: relative;}#sk-container-id-1 div.sk-text-repr-fallback {display: none;}</style><div id=\"sk-container-id-1\" class=\"sk-top-container\"><div class=\"sk-text-repr-fallback\"><pre>LogisticRegression()</pre><b>In a Jupyter environment, please rerun this cell to show the HTML representation or trust the notebook. <br />On GitHub, the HTML representation is unable to render, please try loading this page with nbviewer.org.</b></div><div class=\"sk-container\" hidden><div class=\"sk-item\"><div class=\"sk-estimator sk-toggleable\"><input class=\"sk-toggleable__control sk-hidden--visually\" id=\"sk-estimator-id-1\" type=\"checkbox\" checked><label for=\"sk-estimator-id-1\" class=\"sk-toggleable__label sk-toggleable__label-arrow\">LogisticRegression</label><div class=\"sk-toggleable__content\"><pre>LogisticRegression()</pre></div></div></div></div></div>"
            ]
          },
          "metadata": {},
          "execution_count": 20
        }
      ]
    },
    {
      "cell_type": "code",
      "source": [
        "X_test_feature = model.predict(x_test)"
      ],
      "metadata": {
        "colab": {
          "base_uri": "https://localhost:8080/"
        },
        "id": "zap3iyqJYIGd",
        "outputId": "e35dd247-c38a-4e65-fa24-9ae8d2b0ab96"
      },
      "id": "zap3iyqJYIGd",
      "execution_count": null,
      "outputs": [
        {
          "output_type": "stream",
          "name": "stdout",
          "text": [
            "9/9 [==============================] - 0s 2ms/step\n"
          ]
        }
      ]
    },
    {
      "cell_type": "code",
      "execution_count": null,
      "id": "b6cabba9",
      "metadata": {
        "colab": {
          "base_uri": "https://localhost:8080/"
        },
        "id": "b6cabba9",
        "outputId": "89290601-4063-4b70-8daf-7de2cba28691"
      },
      "outputs": [
        {
          "output_type": "stream",
          "name": "stdout",
          "text": [
            "0.9230769230769231\n",
            "              precision    recall  f1-score   support\n",
            "\n",
            "           0       0.94      0.97      0.96       231\n",
            "           1       0.80      0.67      0.73        42\n",
            "\n",
            "    accuracy                           0.92       273\n",
            "   macro avg       0.87      0.82      0.84       273\n",
            "weighted avg       0.92      0.92      0.92       273\n",
            "\n"
          ]
        }
      ],
      "source": [
        "prediction_lr=l1.predict(X_test_feature)\n",
        "print(accuracy_score(y_test, prediction_lr))\n",
        "print(classification_report(y_test,prediction_lr))"
      ]
    },
    {
      "cell_type": "code",
      "execution_count": null,
      "id": "3e5829dc",
      "metadata": {
        "colab": {
          "base_uri": "https://localhost:8080/"
        },
        "id": "3e5829dc",
        "outputId": "7e6f68ee-ff1b-4139-9b79-765918cad0aa"
      },
      "outputs": [
        {
          "output_type": "stream",
          "name": "stdout",
          "text": [
            "0.8181818181818181\n"
          ]
        }
      ],
      "source": [
        "# auc scores\n",
        "auc_score1 = roc_auc_score(y_test, prediction_lr)\n",
        "print(auc_score1)"
      ]
    },
    {
      "cell_type": "code",
      "execution_count": null,
      "id": "8de1d872",
      "metadata": {
        "id": "8de1d872"
      },
      "outputs": [],
      "source": [
        "fpr1, tpr1, thresh1 = roc_curve(y_test, prediction_lr, pos_label=1)\n",
        "\n",
        "# roc curve for tpr = fpr\n",
        "random_probs = [0 for i in range(len(y_test))]\n",
        "p_fpr, p_tpr, _ = roc_curve(y_test, random_probs, pos_label=1)"
      ]
    },
    {
      "cell_type": "code",
      "execution_count": null,
      "id": "54bf0e0e",
      "metadata": {
        "colab": {
          "base_uri": "https://localhost:8080/",
          "height": 579
        },
        "id": "54bf0e0e",
        "outputId": "c909c221-4a9b-49b6-cae4-1efcefe7c3dc"
      },
      "outputs": [
        {
          "output_type": "stream",
          "name": "stderr",
          "text": [
            "<ipython-input-25-89f9ed397d0c>:2: MatplotlibDeprecationWarning: The seaborn styles shipped by Matplotlib are deprecated since 3.6, as they no longer correspond to the styles shipped by seaborn. However, they will remain available as 'seaborn-v0_8-<style>'. Alternatively, directly use the seaborn API instead.\n",
            "  plt.style.use('seaborn')\n"
          ]
        },
        {
          "output_type": "display_data",
          "data": {
            "text/plain": [
              "<Figure size 800x550 with 1 Axes>"
            ],
            "image/png": "[encoded data removed]"
          },
          "metadata": {}
        }
      ],
      "source": [
        "import matplotlib.pyplot as plt\n",
        "plt.style.use('seaborn')\n",
        "\n",
        "# plot roc curves\n",
        "plt.plot(fpr1, tpr1, linestyle='--',color='orange', label='Logistic Regression')\n",
        "plt.plot(p_fpr, p_tpr, linestyle='--', color='blue')\n",
        "# title\n",
        "plt.title('ROC curve')\n",
        "# x label\n",
        "plt.xlabel('False Positive Rate')\n",
        "# y label\n",
        "plt.ylabel('True Positive rate')\n",
        "\n",
        "plt.legend(loc='best')\n",
        "plt.savefig('ROC_LR',dpi=300)\n",
        "plt.show();"
      ]
    },
    {
      "cell_type": "code",
      "execution_count": null,
      "id": "8f170f2d",
      "metadata": {
        "id": "8f170f2d"
      },
      "outputs": [],
      "source": []
    }
  ],
  "metadata": {
    "kernelspec": {
      "display_name": "Python 3 (ipykernel)",
      "language": "python",
      "name": "python3"
    },
    "language_info": {
      "codemirror_mode": {
        "name": "ipython",
        "version": 3
      },
      "file_extension": ".py",
      "mimetype": "text/x-python",
      "name": "python",
      "nbconvert_exporter": "python",
      "pygments_lexer": "ipython3",
      "version": "3.9.13"
    },
    "colab": {
      "provenance": []
    }
  },
  "nbformat": 4,
  "nbformat_minor": 5
}